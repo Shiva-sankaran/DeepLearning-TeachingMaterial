{
  "nbformat": 4,
  "nbformat_minor": 0,
  "metadata": {
    "colab": {
      "provenance": []
    },
    "kernelspec": {
      "name": "python3",
      "display_name": "Python 3"
    },
    "language_info": {
      "name": "python"
    },
    "accelerator": "GPU",
    "gpuClass": "standard"
  },
  "cells": [
    {
      "cell_type": "markdown",
      "source": [
        "# Preliminaries\n",
        "\n",
        "- Linear algebra"
      ],
      "metadata": {
        "id": "1m6ynsi1EmVv"
      }
    },
    {
      "cell_type": "code",
      "execution_count": null,
      "metadata": {
        "id": "eJlr6wfN97C-"
      },
      "outputs": [],
      "source": [
        "import torch\n",
        "import numpy as np"
      ]
    },
    {
      "cell_type": "markdown",
      "source": [
        "## Tensors\n",
        "\n",
        "Specilized data structures very similar to arrays and matrices. They are very similar to numpy's `ndarrays` from Tutorial 1, except they can run on GPUs as well.\n",
        "\n",
        "0th order tensor: Scalar \\\\\n",
        "1st order tensor: Vector \\\\\n",
        "2nd order tensor: Matrix \\\\\n",
        "\n"
      ],
      "metadata": {
        "id": "D-P2XP4oE5UB"
      }
    },
    {
      "cell_type": "code",
      "source": [
        "scalar = torch.tensor(0)\n",
        "vector = torch.arange(3)\n",
        "matrix = torch.arange(6).reshape(3, 2)\n",
        "\n",
        "print(\"0th order tensor: \\n\",scalar)\n",
        "\n",
        "print(\"1th order tensor: \\n\",vector)\n",
        "\n",
        "print(\"2nd order tensor: \\n\",matrix)\n"
      ],
      "metadata": {
        "colab": {
          "base_uri": "https://localhost:8080/"
        },
        "id": "smCEHs7XG3tu",
        "outputId": "6b0318e1-af98-422a-c313-3f2ec130f2fa"
      },
      "execution_count": null,
      "outputs": [
        {
          "output_type": "stream",
          "name": "stdout",
          "text": [
            "0th order tensor: \n",
            " tensor(0)\n",
            "1th order tensor: \n",
            " tensor([0, 1, 2])\n",
            "2nd order tensor: \n",
            " tensor([[0, 1],\n",
            "        [2, 3],\n",
            "        [4, 5]])\n"
          ]
        }
      ]
    },
    {
      "cell_type": "markdown",
      "source": [
        "Tensor operations are almost identical to numpy `ndarray` operations."
      ],
      "metadata": {
        "id": "fWSzR4hqHihl"
      }
    },
    {
      "cell_type": "code",
      "source": [
        "# create a tensor with all elements set to zero\n",
        "tensor_a = torch.zeros(3, 2)\n",
        "print(tensor_a)\n",
        "\n",
        "# create a tensor with all elements set to one\n",
        "tensor_b = torch.ones(3, 2)\n",
        "print(tensor_b)\n",
        "\n",
        "# create a tensor with random values\n",
        "tensor_c = torch.rand(3, 2)\n",
        "print(tensor_c)\n",
        "\n",
        "# create a tensor from a list\n",
        "tensor_d = torch.tensor([[1, 2], [3, 4], [5, 6]])\n",
        "print(tensor_d)"
      ],
      "metadata": {
        "colab": {
          "base_uri": "https://localhost:8080/"
        },
        "id": "wDPPgWTl-Odn",
        "outputId": "ee23e03f-7cd4-4859-cf11-07f89b41bfce"
      },
      "execution_count": null,
      "outputs": [
        {
          "output_type": "stream",
          "name": "stdout",
          "text": [
            "tensor([[0., 0.],\n",
            "        [0., 0.],\n",
            "        [0., 0.]])\n",
            "tensor([[1., 1.],\n",
            "        [1., 1.],\n",
            "        [1., 1.]])\n",
            "tensor([[0.1796, 0.9314],\n",
            "        [0.6685, 0.2399],\n",
            "        [0.6633, 0.3272]])\n",
            "tensor([[1, 2],\n",
            "        [3, 4],\n",
            "        [5, 6]])\n"
          ]
        }
      ]
    },
    {
      "cell_type": "markdown",
      "source": [
        "### Indexing and Slicing:"
      ],
      "metadata": {
        "id": "bfIcgVH2_KhQ"
      }
    },
    {
      "cell_type": "code",
      "source": [
        "# Create a 2x3 tensor with specific values\n",
        "tensor = torch.tensor([[1, 2, 3], [4, 5, 6]])\n",
        "print(tensor)\n",
        "\n",
        "# Access the second element of the first row\n",
        "print(tensor[0, 1])\n",
        "\n",
        "# Slice the tensor to get the second row\n",
        "print(tensor[1])\n",
        "\n",
        "# Slice the tensor to get the second and third elements of the second row\n",
        "print(tensor[1, 1:])\n",
        "\n",
        "# Change the value of a specific element\n",
        "tensor[0, 2] = 10\n",
        "print(tensor)\n",
        "\n",
        "# Change the values of a row\n",
        "tensor[1] = torch.tensor([7, 8, 9])\n",
        "print(tensor)"
      ],
      "metadata": {
        "id": "Vwh_zOJ--VFt",
        "colab": {
          "base_uri": "https://localhost:8080/"
        },
        "outputId": "14624337-dc11-407b-8cd0-28250e808154"
      },
      "execution_count": null,
      "outputs": [
        {
          "output_type": "stream",
          "name": "stdout",
          "text": [
            "tensor([[1, 2, 3],\n",
            "        [4, 5, 6]])\n",
            "tensor(2)\n",
            "tensor([4, 5, 6])\n",
            "tensor([5, 6])\n",
            "tensor([[ 1,  2, 10],\n",
            "        [ 4,  5,  6]])\n",
            "tensor([[ 1,  2, 10],\n",
            "        [ 7,  8,  9]])\n"
          ]
        }
      ]
    },
    {
      "cell_type": "code",
      "source": [
        "# Create two 2x3 tensors\n",
        "tensor1 = torch.tensor([[1, 2, 3], [4, 5, 6]])\n",
        "tensor2 = torch.tensor([[7, 8, 9], [10, 11, 12]])\n",
        "\n",
        "# Add the two tensors\n",
        "tensor_sum = tensor1 + tensor2\n",
        "print(tensor_sum)\n",
        "\n",
        "# Multiply the two tensors element-wise\n",
        "tensor_mul = tensor1 * tensor2\n",
        "print(tensor_mul)\n",
        "\n",
        "# Divide the first tensor by the second tensor element-wise\n",
        "tensor_div = tensor1 / tensor2\n",
        "print(tensor_div)\n",
        "\n",
        "# Raise the first tensor to the power of the second tensor element-wise\n",
        "tensor_pow = tensor1 ** tensor2\n",
        "print(tensor_pow)\n",
        "\n"
      ],
      "metadata": {
        "id": "pHPNtKPV_W58",
        "colab": {
          "base_uri": "https://localhost:8080/"
        },
        "outputId": "894616eb-15a3-415e-9e49-682a95d329ae"
      },
      "execution_count": null,
      "outputs": [
        {
          "output_type": "stream",
          "name": "stdout",
          "text": [
            "tensor([[ 8, 10, 12],\n",
            "        [14, 16, 18]])\n",
            "tensor([[ 7, 16, 27],\n",
            "        [40, 55, 72]])\n",
            "tensor([[0.1429, 0.2500, 0.3333],\n",
            "        [0.4000, 0.4545, 0.5000]])\n",
            "tensor([[         1,        256,      19683],\n",
            "        [   1048576,   48828125, 2176782336]])\n"
          ]
        }
      ]
    },
    {
      "cell_type": "code",
      "source": [
        "# torch.manual_seed(0)\n",
        "\n",
        "# Tensor matrix multiplication\n",
        "tensor1 = torch.rand(4,2)\n",
        "tensor2 = torch.rand(2,4)\n",
        "print(\"Tensor1: \\n\",tensor1)\n",
        "\n",
        "print(\"Tensor2: \\n\",tensor2)\n",
        "\n",
        "tensor_mm = torch.mm(tensor1,tensor2)\n",
        "print(\"Muliplied tensor: \\n\",tensor_mm)"
      ],
      "metadata": {
        "colab": {
          "base_uri": "https://localhost:8080/"
        },
        "id": "CNqZ1vkxIbPw",
        "outputId": "29c68e9b-acf7-4d56-9925-e9c77e697438"
      },
      "execution_count": null,
      "outputs": [
        {
          "output_type": "stream",
          "name": "stdout",
          "text": [
            "Tensor1: \n",
            " tensor([[0.1415, 0.8752],\n",
            "        [0.2566, 0.3464],\n",
            "        [0.1896, 0.7934],\n",
            "        [0.4399, 0.3271]])\n",
            "Tensor2: \n",
            " tensor([[0.6339, 0.3429, 0.8477, 0.7453],\n",
            "        [0.1016, 0.1087, 0.0480, 0.2077]])\n",
            "Muliplied tensor: \n",
            " tensor([[0.1786, 0.1436, 0.1620, 0.2873],\n",
            "        [0.1979, 0.1256, 0.2342, 0.2632],\n",
            "        [0.2008, 0.1512, 0.1988, 0.3062],\n",
            "        [0.3121, 0.1864, 0.3886, 0.3958]])\n"
          ]
        }
      ]
    },
    {
      "cell_type": "code",
      "source": [
        "# Converting tensor back to numpy\n",
        "tensor1 = torch.tensor([[1.0,1.0,1.0],[1.0,1.0,-1.0],[-1.0,1.0,1.0]]) \n",
        "tensor1.numpy()"
      ],
      "metadata": {
        "colab": {
          "base_uri": "https://localhost:8080/"
        },
        "id": "NJu0ro_SOCOv",
        "outputId": "99481afd-2754-40f1-b2af-a48befcb4eb2"
      },
      "execution_count": null,
      "outputs": [
        {
          "output_type": "execute_result",
          "data": {
            "text/plain": [
              "array([[ 1.,  1.,  1.],\n",
              "       [ 1.,  1., -1.],\n",
              "       [-1.,  1.,  1.]], dtype=float32)"
            ]
          },
          "metadata": {},
          "execution_count": 7
        }
      ]
    },
    {
      "cell_type": "markdown",
      "source": [
        "### Matrix operations"
      ],
      "metadata": {
        "id": "4kiVJ31lIkNt"
      }
    },
    {
      "cell_type": "code",
      "source": [
        "# Transpose\n",
        "\n",
        "tensor1 = torch.rand(4,2)\n",
        "tensor1_transpose = torch.transpose(tensor1,0,1)\n",
        "\n",
        "print(\"Tensor1: \\n\",tensor1)\n",
        "print(\"Tensor1's transpose: \\n\",tensor1_transpose)"
      ],
      "metadata": {
        "colab": {
          "base_uri": "https://localhost:8080/"
        },
        "id": "fKw3OtYlIi0h",
        "outputId": "ed538360-7412-4dc3-bb2f-ca200da5b651"
      },
      "execution_count": null,
      "outputs": [
        {
          "output_type": "stream",
          "name": "stdout",
          "text": [
            "Tensor1: \n",
            " tensor([[0.9036, 0.1266],\n",
            "        [0.1638, 0.5727],\n",
            "        [0.5619, 0.6791],\n",
            "        [0.6488, 0.0173]])\n",
            "Tensor1's transpose: \n",
            " tensor([[0.9036, 0.1638, 0.5619, 0.6488],\n",
            "        [0.1266, 0.5727, 0.6791, 0.0173]])\n"
          ]
        }
      ]
    },
    {
      "cell_type": "code",
      "source": [
        "tensor1 = torch.rand(4,2,3)\n",
        "print(\"Tensor1: \\n\",tensor1)\n",
        "tensor1_transpose = torch.transpose(tensor1,0,1)\n",
        "print(\"Tensor1's transpose: \\n\",tensor1_transpose)"
      ],
      "metadata": {
        "colab": {
          "base_uri": "https://localhost:8080/"
        },
        "id": "2SrGFPQ1I_HI",
        "outputId": "d6c22a78-67e7-4dc8-a308-d6af22737538"
      },
      "execution_count": null,
      "outputs": [
        {
          "output_type": "stream",
          "name": "stdout",
          "text": [
            "Tensor1: \n",
            " tensor([[[0.7981, 0.7064, 0.9718],\n",
            "         [0.6966, 0.9099, 0.4953]],\n",
            "\n",
            "        [[0.7241, 0.2613, 0.2152],\n",
            "         [0.1138, 0.5419, 0.9608]],\n",
            "\n",
            "        [[0.8742, 0.8928, 0.6666],\n",
            "         [0.5123, 0.5896, 0.1922]],\n",
            "\n",
            "        [[0.8467, 0.3495, 0.2891],\n",
            "         [0.4852, 0.2140, 0.1587]]])\n",
            "Tensor1's transpose: \n",
            " tensor([[[0.7981, 0.7064, 0.9718],\n",
            "         [0.7241, 0.2613, 0.2152],\n",
            "         [0.8742, 0.8928, 0.6666],\n",
            "         [0.8467, 0.3495, 0.2891]],\n",
            "\n",
            "        [[0.6966, 0.9099, 0.4953],\n",
            "         [0.1138, 0.5419, 0.9608],\n",
            "         [0.5123, 0.5896, 0.1922],\n",
            "         [0.4852, 0.2140, 0.1587]]])\n"
          ]
        }
      ]
    },
    {
      "cell_type": "code",
      "source": [
        "# Matrix inversion\n",
        "A = torch.tensor([[4, 3, 2], [-2, 2, 3], [3, -5, 2]],dtype=torch.float64)\n",
        "torch.linalg.inv(A)"
      ],
      "metadata": {
        "colab": {
          "base_uri": "https://localhost:8080/"
        },
        "id": "zXnXT3jsJim0",
        "outputId": "b7ce5724-5a23-414d-e484-c63cf00614d5"
      },
      "execution_count": null,
      "outputs": [
        {
          "output_type": "execute_result",
          "data": {
            "text/plain": [
              "tensor([[ 0.1545, -0.1301,  0.0407],\n",
              "        [ 0.1057,  0.0163, -0.1301],\n",
              "        [ 0.0325,  0.2358,  0.1138]], dtype=torch.float64)"
            ]
          },
          "metadata": {},
          "execution_count": 12
        }
      ]
    },
    {
      "cell_type": "code",
      "source": [
        "## Norms\n",
        "\n",
        "tensor1 = torch.tensor([[1.0,1.0,1.0],[1.0,1.0,-1.0],[-1.0,1.0,1.0]]) \n",
        "\n",
        "# L2 norm\n",
        "L2_norm =torch.norm(tensor1)\n",
        "print(\"L2 norm: \",L2_norm)\n",
        "\n",
        "print( torch.abs(tensor1))\n",
        "# L1 norm\n",
        "L1_norm = torch.abs(tensor1).sum() # Fill\n",
        "print(\"L1 norm: \",L1_norm)\n",
        "\n"
      ],
      "metadata": {
        "colab": {
          "base_uri": "https://localhost:8080/"
        },
        "id": "JgTpFn3UMqj-",
        "outputId": "f4599530-7f3a-4712-87cb-e3c647ddf8f5"
      },
      "execution_count": null,
      "outputs": [
        {
          "output_type": "stream",
          "name": "stdout",
          "text": [
            "L2 norm:  tensor(3.)\n",
            "tensor([[1., 1., 1.],\n",
            "        [1., 1., 1.],\n",
            "        [1., 1., 1.]])\n",
            "L1 norm:  tensor(9.)\n"
          ]
        }
      ]
    },
    {
      "cell_type": "code",
      "source": [
        "## Trace\n",
        "\n",
        "A = torch.tensor([[4, 3, 2], [-2, 2, 3], [3, -5, 2]])\n",
        "print(\"A: \\n\",A)\n",
        "trace_A = torch.trace(A) # Find the trace function\n",
        "print(\"Trace of A: \\n\",trace_A)"
      ],
      "metadata": {
        "colab": {
          "base_uri": "https://localhost:8080/"
        },
        "id": "pi7xGX3aX6a-",
        "outputId": "451d82b5-74f0-496e-cfc8-06b09afeb2ba"
      },
      "execution_count": null,
      "outputs": [
        {
          "output_type": "stream",
          "name": "stdout",
          "text": [
            "A: \n",
            " tensor([[ 4,  3,  2],\n",
            "        [-2,  2,  3],\n",
            "        [ 3, -5,  2]])\n",
            "Trace of A: \n",
            " tensor(8)\n"
          ]
        }
      ]
    },
    {
      "cell_type": "markdown",
      "source": [
        "### Questions:\n",
        "\n",
        "Find the functions you need to implement the following on your own. Hint: Use google\n",
        "\n",
        "  1. $(A^T)^T = A$\n",
        "  2. $(AB)^T = B^TA^T$\n",
        "  3. Showcase  associative property of matrix multiplication\n",
        "  4. Implement a function that returns L2 norm. Cross check with the build-in Pytorch library function\n",
        "  5. Implement a function which will return the max norm of a tensor\n",
        "  6. Implement a function that will return trace of a matrix if the matrix is a square matrix if not -1.\n",
        "  7. Write a function that will return the Hadamard product of two matrices.\n",
        "  8. Solve the following system of linear equation \\\\\n",
        "  $$\n",
        "  4x + 3y + 2z = 25 \\\\\n",
        "  -2x + 2y + 3z = -10 \\\\\n",
        "  3x - 5y + 2z = -4\n",
        "  $$"
      ],
      "metadata": {
        "id": "R5Q16_U-EJ5T"
      }
    },
    {
      "cell_type": "code",
      "source": [
        "# Write your answer here for question 1\n",
        "A = torch.rand(4,2)\n",
        "print(A)\n",
        "A_transpose = torch.transpose(A,0,1)\n",
        "print(A_transpose)\n",
        "A_transpose_transpose = torch.transpose(A_transpose,0,1)\n",
        "print(A_transpose_transpose)"
      ],
      "metadata": {
        "id": "7EAF7t_gAWZE",
        "colab": {
          "base_uri": "https://localhost:8080/"
        },
        "outputId": "009c3bc7-dd94-493e-8278-936c4b86e5b1"
      },
      "execution_count": null,
      "outputs": [
        {
          "output_type": "stream",
          "name": "stdout",
          "text": [
            "tensor([[0.3047, 0.4051],\n",
            "        [0.8069, 0.0341],\n",
            "        [0.5382, 0.6948],\n",
            "        [0.9374, 0.8927]])\n",
            "tensor([[0.3047, 0.8069, 0.5382, 0.9374],\n",
            "        [0.4051, 0.0341, 0.6948, 0.8927]])\n",
            "tensor([[0.3047, 0.4051],\n",
            "        [0.8069, 0.0341],\n",
            "        [0.5382, 0.6948],\n",
            "        [0.9374, 0.8927]])\n"
          ]
        }
      ]
    },
    {
      "cell_type": "code",
      "source": [
        "# Write your answer here for question 2\n",
        "A = torch.rand(4,4)\n",
        "B = torch.rand(4,4)\n",
        "AB = torch.mm(A,B)\n",
        "AB_t = torch.transpose(AB,0,1)\n",
        "print(AB_t)\n",
        "B_t = torch.transpose(B,0,1)\n",
        "A_t = torch.transpose(A,0,1)\n",
        "B_t_A_t = torch.mm(B_t,A_t)\n",
        "print(B_t_A_t)"
      ],
      "metadata": {
        "id": "AiCs4c7uO14Q",
        "colab": {
          "base_uri": "https://localhost:8080/"
        },
        "outputId": "2a425a56-6f3a-4634-ffcd-7e4a616ee854"
      },
      "execution_count": null,
      "outputs": [
        {
          "output_type": "stream",
          "name": "stdout",
          "text": [
            "tensor([[1.2334, 0.5775, 0.9987, 1.2411],\n",
            "        [1.4845, 0.6720, 0.7578, 1.5003],\n",
            "        [1.4495, 0.7407, 0.9894, 0.9612],\n",
            "        [0.8673, 0.5040, 0.7878, 0.5354]])\n",
            "tensor([[1.2334, 0.5775, 0.9987, 1.2411],\n",
            "        [1.4845, 0.6720, 0.7578, 1.5003],\n",
            "        [1.4495, 0.7407, 0.9894, 0.9612],\n",
            "        [0.8673, 0.5040, 0.7878, 0.5354]])\n"
          ]
        }
      ]
    },
    {
      "cell_type": "code",
      "source": [
        "# Write your answer here for question 3\n",
        "\n",
        "A = torch.rand(4,4)\n",
        "B = torch.rand(4,4)\n",
        "C = torch.rand(4,4)\n",
        "AB_C = torch.mm(torch.mm(A,B),C)\n",
        "A_BC = torch.mm(A,torch.mm(B,C))\n",
        "print(\"(AB)C: \\n\",AB_C)\n",
        "print(\"A(BC): \\n\",A_BC)\n",
        "\n"
      ],
      "metadata": {
        "id": "Hk8TjnU6P5ZG",
        "colab": {
          "base_uri": "https://localhost:8080/"
        },
        "outputId": "a6d8e416-93f9-4f7a-bdda-9fe7a2373189"
      },
      "execution_count": null,
      "outputs": [
        {
          "output_type": "stream",
          "name": "stdout",
          "text": [
            "(AB)C: \n",
            " tensor([[1.2988, 1.4503, 0.9405, 0.9734],\n",
            "        [1.3558, 1.6987, 1.1573, 1.1282],\n",
            "        [1.7472, 2.1120, 1.4507, 1.4203],\n",
            "        [1.6369, 1.7642, 1.2632, 1.2588]])\n",
            "A(BC): \n",
            " tensor([[1.2988, 1.4503, 0.9405, 0.9734],\n",
            "        [1.3558, 1.6987, 1.1573, 1.1282],\n",
            "        [1.7472, 2.1120, 1.4507, 1.4203],\n",
            "        [1.6369, 1.7642, 1.2632, 1.2588]])\n"
          ]
        }
      ]
    },
    {
      "cell_type": "code",
      "source": [
        "# Write your answer here for question 4\n",
        "\n",
        "tensor1 = torch.tensor([[1.0,1.0,1.0],[1.0,1.0,-1.0],[-1.0,1.0,1.0]]) \n",
        "\n",
        "# L2 norm\n",
        "L2_norm =torch.norm(tensor1)\n",
        "print(\"L2 norm: \",L2_norm)\n",
        "\n",
        "# Answer\n",
        "my_L2_norm = torch.sqrt((tensor1**2).sum())\n",
        "print(\"my L2 norm: \",my_L2_norm)"
      ],
      "metadata": {
        "id": "l2M09q4KLNCQ",
        "colab": {
          "base_uri": "https://localhost:8080/"
        },
        "outputId": "ea12c357-0292-4f20-d431-60f83c40a4bc"
      },
      "execution_count": null,
      "outputs": [
        {
          "output_type": "stream",
          "name": "stdout",
          "text": [
            "L2 norm:  tensor(3.)\n",
            "my L2 norm:  tensor(3.)\n"
          ]
        }
      ]
    },
    {
      "cell_type": "code",
      "source": [
        "# Write your answer here for question 5\n",
        "A = torch.rand(4,2)\n",
        "print('A : \\n',A)\n",
        "\n",
        "max_norm = torch.max(torch.abs(A))\n",
        "print(\"Max norm of A: \",max_norm)\n"
      ],
      "metadata": {
        "id": "KJyYc6qELNEI",
        "colab": {
          "base_uri": "https://localhost:8080/"
        },
        "outputId": "46ee21e6-8999-4c0e-b248-e2533390a7f6"
      },
      "execution_count": null,
      "outputs": [
        {
          "output_type": "stream",
          "name": "stdout",
          "text": [
            "A : \n",
            " tensor([[0.9838, 0.4590],\n",
            "        [0.4075, 0.7910],\n",
            "        [0.5701, 0.3494],\n",
            "        [0.3085, 0.3804]])\n",
            "Max norm of A:  tensor(0.9838)\n"
          ]
        }
      ]
    },
    {
      "cell_type": "code",
      "source": [
        "# Write your answer here for question 6\n",
        "def return_trace(A):\n",
        "\n",
        "  shape = A.shape\n",
        "  print(\"Shape: \",shape)\n",
        "  if(shape[0] == shape[1]):\n",
        "    # square matrix\n",
        "    return torch.trace(A)\n",
        "  else:\n",
        "    # non square matrix\n",
        "    return -1\n",
        "\n",
        "A = torch.rand(4,2)\n",
        "B = torch.rand(4,4)\n",
        "print(B)\n",
        "print(\"A trace: \",return_trace(A))\n",
        "print(\"B trace: \",return_trace(B))\n"
      ],
      "metadata": {
        "id": "PDDAtjeWLNGE",
        "colab": {
          "base_uri": "https://localhost:8080/"
        },
        "outputId": "3b9b574c-f8a4-4262-ce5f-e6ef57d3a310"
      },
      "execution_count": null,
      "outputs": [
        {
          "output_type": "stream",
          "name": "stdout",
          "text": [
            "tensor([[0.0249, 0.3067, 0.4510, 0.3368],\n",
            "        [0.4336, 0.1950, 0.3524, 0.6830],\n",
            "        [0.1074, 0.4715, 0.3212, 0.7323],\n",
            "        [0.7049, 0.7807, 0.3432, 0.1178]])\n",
            "Shape:  torch.Size([4, 2])\n",
            "A trace:  -1\n",
            "Shape:  torch.Size([4, 4])\n",
            "B trace:  tensor(0.6589)\n"
          ]
        }
      ]
    },
    {
      "cell_type": "code",
      "source": [
        "# Write your answer here for question 7\n",
        "\n",
        "A = torch.rand(4,4)\n",
        "B = torch.rand(4,4)\n",
        "\n",
        "print(A)\n",
        "print(B)\n",
        "print(A*B)\n"
      ],
      "metadata": {
        "id": "A5gSe_dwLNH0",
        "colab": {
          "base_uri": "https://localhost:8080/"
        },
        "outputId": "1bf2efd3-9df3-4e1a-d9e4-569950c95612"
      },
      "execution_count": null,
      "outputs": [
        {
          "output_type": "stream",
          "name": "stdout",
          "text": [
            "tensor([[0.1401, 0.7142, 0.0276, 0.3095],\n",
            "        [0.7244, 0.8177, 0.5087, 0.8721],\n",
            "        [0.7183, 0.1443, 0.0588, 0.5636],\n",
            "        [0.6914, 0.1057, 0.0685, 0.9476]])\n",
            "tensor([[0.7530, 0.8509, 0.2040, 0.0698],\n",
            "        [0.7140, 0.5066, 0.5724, 0.7550],\n",
            "        [0.8398, 0.1864, 0.4611, 0.2456],\n",
            "        [0.8050, 0.6806, 0.2590, 0.9788]])\n",
            "tensor([[0.1055, 0.6077, 0.0056, 0.0216],\n",
            "        [0.5172, 0.4142, 0.2912, 0.6584],\n",
            "        [0.6032, 0.0269, 0.0271, 0.1384],\n",
            "        [0.5566, 0.0719, 0.0177, 0.9275]])\n"
          ]
        }
      ]
    },
    {
      "cell_type": "code",
      "source": [
        "# Write your answer here for question 8\n",
        "# Ax = B\n",
        "# x = A_inv . B"
      ],
      "metadata": {
        "id": "rwDs-1DCYrD5"
      },
      "execution_count": null,
      "outputs": []
    },
    {
      "cell_type": "markdown",
      "source": [
        "## Plotting\n",
        "\n",
        "[Matplotlib](https://matplotlib.org/)\n",
        "\n",
        "https://matplotlib.org/stable/api/_as_gen/matplotlib.pyplot.plot.html"
      ],
      "metadata": {
        "id": "QVMIAYmaLVUm"
      }
    },
    {
      "cell_type": "code",
      "source": [
        "import matplotlib.pyplot as plt\n",
        "from pylab import rcParams\n",
        "%matplotlib inline\n",
        "rcParams['figure.figsize'] = 8,8"
      ],
      "metadata": {
        "id": "NNCRLZtDLa-Y"
      },
      "execution_count": null,
      "outputs": []
    },
    {
      "cell_type": "code",
      "source": [
        "X = np.array([1,2,3,4,5,6,7,8])\n",
        "# X = np.linspace(1,1000,1000)\n",
        "Y = X**2\n",
        "print(\"X: \",X)\n",
        "print(\"Y: \",Y)"
      ],
      "metadata": {
        "colab": {
          "base_uri": "https://localhost:8080/"
        },
        "id": "FtG_0IinMJX8",
        "outputId": "f9d4ba4e-e98e-4f92-c20e-e987af770c1a"
      },
      "execution_count": null,
      "outputs": [
        {
          "output_type": "stream",
          "name": "stdout",
          "text": [
            "X:  [1 2 3 4 5 6 7 8]\n",
            "Y:  [ 1  4  9 16 25 36 49 64]\n"
          ]
        }
      ]
    },
    {
      "cell_type": "code",
      "source": [
        "plt.plot(X,Y,'y')\n",
        "# plt.xlim([-1000,1000])\n",
        "plt.show()"
      ],
      "metadata": {
        "colab": {
          "base_uri": "https://localhost:8080/",
          "height": 483
        },
        "id": "qoVtb-0ZMYzs",
        "outputId": "efb8d646-2443-430d-f6f6-3334da21c8e8"
      },
      "execution_count": null,
      "outputs": [
        {
          "output_type": "display_data",
          "data": {
            "text/plain": [
              "<Figure size 576x576 with 1 Axes>"
            ],
            "image/png": "[encoded data removed]"
          },
          "metadata": {
            "needs_background": "light"
          }
        }
      ]
    },
    {
      "cell_type": "markdown",
      "source": [
        "## Eigenvalue decomposition\n",
        "\n",
        "$Av = \\lambda v $, where v is the eigenvector and $\\lambda$ is the corresponding eigenvalue\n"
      ],
      "metadata": {
        "id": "8Z5fT6bHMzPL"
      }
    },
    {
      "cell_type": "code",
      "source": [
        "X = np.linspace(-1,1,100) #\n",
        "# Let x be an element in X then the corresponding element in Y will be sqrt(1-x^2)\n",
        "Y = np.sqrt(1-np.square(X))# Fill it in numpy\n",
        "\n",
        "print(\"First 10 elements in X: \",X[:10])\n",
        "print(\"First 10 elements in Y: \",Y[:10])\n",
        "print(\"First 10 elements in -Y: \",-Y[:10])\n",
        "plt.plot(X,Y,'r')\n",
        "plt.plot(X,-Y,'r')\n",
        "plt.xlim([3,-3])\n",
        "plt.ylim([3,-3])\n",
        "plt.show()\n"
      ],
      "metadata": {
        "colab": {
          "base_uri": "https://localhost:8080/",
          "height": 591
        },
        "id": "gp4Zbt3iNtae",
        "outputId": "3470d45e-7803-4fa2-bdf5-ebe3a542354f"
      },
      "execution_count": null,
      "outputs": [
        {
          "output_type": "stream",
          "name": "stdout",
          "text": [
            "First 10 elements in X:  [-1.         -0.97979798 -0.95959596 -0.93939394 -0.91919192 -0.8989899\n",
            " -0.87878788 -0.85858586 -0.83838384 -0.81818182]\n",
            "First 10 elements in Y:  [0.         0.1999898  0.28138158 0.34283965 0.39380987 0.43796936\n",
            " 0.4772126  0.5126698  0.54508031 0.57495957]\n",
            "First 10 elements in -Y:  [-0.         -0.1999898  -0.28138158 -0.34283965 -0.39380987 -0.43796936\n",
            " -0.4772126  -0.5126698  -0.54508031 -0.57495957]\n"
          ]
        },
        {
          "output_type": "display_data",
          "data": {
            "text/plain": [
              "<Figure size 576x576 with 1 Axes>"
            ],
            "image/png": "[encoded data removed]"
          },
          "metadata": {
            "needs_background": "light"
          }
        }
      ]
    },
    {
      "cell_type": "code",
      "source": [
        "def transform(x,y):\n",
        "  return 9*x+4*y,4*x+3*y"
      ],
      "metadata": {
        "id": "YHZk-yYMQ1s2"
      },
      "execution_count": null,
      "outputs": []
    },
    {
      "cell_type": "code",
      "source": [
        "X_transformed_1,Y_transformed_1 = transform(X,Y)\n",
        "X_transformed_2,Y_transformed_2 = transform(X,-Y)"
      ],
      "metadata": {
        "id": "ZoMloeflRCms"
      },
      "execution_count": null,
      "outputs": []
    },
    {
      "cell_type": "code",
      "source": [
        "\n",
        "plt.plot(X_transformed_1,Y_transformed_1,'r')\n",
        "plt.plot(X_transformed_2,Y_transformed_2,'r')\n",
        "plt.show()"
      ],
      "metadata": {
        "colab": {
          "base_uri": "https://localhost:8080/",
          "height": 483
        },
        "id": "dVE38uUeRYGm",
        "outputId": "ec98980e-2032-494d-81aa-4820472abb10"
      },
      "execution_count": null,
      "outputs": [
        {
          "output_type": "display_data",
          "data": {
            "text/plain": [
              "<Figure size 576x576 with 1 Axes>"
            ],
            "image/png": "[encoded data removed]"
          },
          "metadata": {
            "needs_background": "light"
          }
        }
      ]
    },
    {
      "cell_type": "code",
      "source": [
        "eig_values,eig_vectors = np.linalg.eig(np.array([[9,4],[4,3]]))\n",
        "print(\"Eigen values: \",eig_values)\n",
        "print(\"Eigen vectors: \",eig_vectors)"
      ],
      "metadata": {
        "colab": {
          "base_uri": "https://localhost:8080/"
        },
        "id": "pp-Z94wISL_4",
        "outputId": "32b1d26b-7f22-4a92-b030-729eebe9f1b7"
      },
      "execution_count": null,
      "outputs": [
        {
          "output_type": "stream",
          "name": "stdout",
          "text": [
            "Eigen values:  [11.  1.]\n",
            "Eigen vectors:  [[ 0.89442719 -0.4472136 ]\n",
            " [ 0.4472136   0.89442719]]\n"
          ]
        }
      ]
    },
    {
      "cell_type": "code",
      "source": [
        "scaled_points = eig_values * eig_vectors\n",
        "point1 = scaled_points[:,0]\n",
        "point2 = scaled_points[:,1]\n",
        "print(\"Point1: \",point1)\n",
        "print(\"Point2: \",point2)\n",
        "\n",
        "\n",
        "plt.plot(X_transformed_1,Y_transformed_1,'r')\n",
        "plt.plot(X_transformed_2,Y_transformed_2,'r')\n",
        "plt.quiver(0,0,point1[0],point1[1],scale=1,scale_units ='xy',angles='xy')\n",
        "plt.quiver(0,0,point2[0],point2[1],scale=1,scale_units ='xy',angles='xy')\n",
        "plt.show()\n"
      ],
      "metadata": {
        "colab": {
          "base_uri": "https://localhost:8080/",
          "height": 518
        },
        "id": "O0I6W8kISfYt",
        "outputId": "3163fc74-67bd-499c-8bc2-6538fd20c476"
      },
      "execution_count": null,
      "outputs": [
        {
          "output_type": "stream",
          "name": "stdout",
          "text": [
            "Point1:  [9.8386991  4.91934955]\n",
            "Point2:  [-0.4472136   0.89442719]\n"
          ]
        },
        {
          "output_type": "display_data",
          "data": {
            "text/plain": [
              "<Figure size 576x576 with 1 Axes>"
            ],
            "image/png": "[encoded data removed]"
          },
          "metadata": {
            "needs_background": "light"
          }
        }
      ]
    },
    {
      "cell_type": "markdown",
      "source": [
        "Question:\n",
        "1. Verify if eigenvectors of the above example are orthogonal to each other\n",
        "2. Write a function to find the eigenvalues and eigenvectors in numpy*"
      ],
      "metadata": {
        "id": "AuZPRJWka9QR"
      }
    },
    {
      "cell_type": "code",
      "source": [
        "# Write your answer here for question 1\n"
      ],
      "metadata": {
        "id": "Le6WrO5Acufj"
      },
      "execution_count": null,
      "outputs": []
    },
    {
      "cell_type": "code",
      "source": [
        "# Write your answer here for question 2\n"
      ],
      "metadata": {
        "id": "XuMBKgj1cuhG"
      },
      "execution_count": null,
      "outputs": []
    },
    {
      "cell_type": "markdown",
      "source": [
        "### GPU"
      ],
      "metadata": {
        "id": "57bJMPJh5KJN"
      }
    },
    {
      "cell_type": "code",
      "source": [
        "!nvidia-smi"
      ],
      "metadata": {
        "colab": {
          "base_uri": "https://localhost:8080/"
        },
        "id": "URc2ITw95aiK",
        "outputId": "ed6644a6-8aff-4008-c90d-d2e1ab1c06f0"
      },
      "execution_count": null,
      "outputs": [
        {
          "output_type": "stream",
          "name": "stdout",
          "text": [
            "Mon Jan  9 19:10:57 2023       \n",
            "+-----------------------------------------------------------------------------+\n",
            "| NVIDIA-SMI 460.32.03    Driver Version: 460.32.03    CUDA Version: 11.2     |\n",
            "|-------------------------------+----------------------+----------------------+\n",
            "| GPU  Name        Persistence-M| Bus-Id        Disp.A | Volatile Uncorr. ECC |\n",
            "| Fan  Temp  Perf  Pwr:Usage/Cap|         Memory-Usage | GPU-Util  Compute M. |\n",
            "|                               |                      |               MIG M. |\n",
            "|===============================+======================+======================|\n",
            "|   0  Tesla T4            Off  | 00000000:00:04.0 Off |                    0 |\n",
            "| N/A   57C    P0    27W /  70W |      0MiB / 15109MiB |      0%      Default |\n",
            "|                               |                      |                  N/A |\n",
            "+-------------------------------+----------------------+----------------------+\n",
            "                                                                               \n",
            "+-----------------------------------------------------------------------------+\n",
            "| Processes:                                                                  |\n",
            "|  GPU   GI   CI        PID   Type   Process name                  GPU Memory |\n",
            "|        ID   ID                                                   Usage      |\n",
            "|=============================================================================|\n",
            "|  No running processes found                                                 |\n",
            "+-----------------------------------------------------------------------------+\n"
          ]
        }
      ]
    },
    {
      "cell_type": "code",
      "source": [
        "device = torch.device(\"cuda\") if torch.cuda.is_available() else torch.device(\"cpu\")\n",
        "device"
      ],
      "metadata": {
        "colab": {
          "base_uri": "https://localhost:8080/"
        },
        "id": "LPbq7doF8YM_",
        "outputId": "430e4c2b-2c35-422d-9be6-d956155255e5"
      },
      "execution_count": null,
      "outputs": [
        {
          "output_type": "execute_result",
          "data": {
            "text/plain": [
              "device(type='cuda')"
            ]
          },
          "metadata": {},
          "execution_count": 4
        }
      ]
    },
    {
      "cell_type": "code",
      "source": [
        "tensor1 = torch.tensor([[1, 2, 3], [4, 5, 6]])\n",
        "tensor2 = torch.tensor([[7, 8, 9], [10, 11, 12]])\n",
        "\n",
        "print(\"Tensor1: \\n\",tensor1)\n",
        "print(\"Tensor2: \\n\",tensor2)\n",
        "\n",
        "print(\"Tensor 1 + Tensor 2:\\n\",tensor1+tensor2)\n",
        "\n",
        "# Move the tensors to GPU\n",
        "# tensor1_gpu = tensor1.to(device)\n",
        "# tensor2_gpu = tensor2.to(device)\n",
        "tensor1_gpu = tensor1.cuda()\n",
        "tensor2_gpu = tensor2.cuda()\n",
        "\n",
        "print(\"Tensor1: \\n\",tensor1_gpu)\n",
        "print(\"Tensor2: \\n\",tensor2_gpu)\n",
        "\n",
        "print(\"Tensor 1 + Tensor 2 in GPU:\\n\",tensor1_gpu+tensor2_gpu)\n",
        "\n",
        "#\n",
        "# tensor1_gpu.cpu() + tensor2"
      ],
      "metadata": {
        "colab": {
          "base_uri": "https://localhost:8080/"
        },
        "id": "PHFW8sgC8dHc",
        "outputId": "8163452e-f49a-4120-cdb8-f1c754e980a1"
      },
      "execution_count": null,
      "outputs": [
        {
          "output_type": "stream",
          "name": "stdout",
          "text": [
            "Tensor1: \n",
            " tensor([[1, 2, 3],\n",
            "        [4, 5, 6]])\n",
            "Tensor2: \n",
            " tensor([[ 7,  8,  9],\n",
            "        [10, 11, 12]])\n",
            "Tensor 1 + Tensor 2:\n",
            " tensor([[ 8, 10, 12],\n",
            "        [14, 16, 18]])\n",
            "Tensor1: \n",
            " tensor([[1, 2, 3],\n",
            "        [4, 5, 6]], device='cuda:0')\n",
            "Tensor2: \n",
            " tensor([[ 7,  8,  9],\n",
            "        [10, 11, 12]], device='cuda:0')\n",
            "Tensor 1 + Tensor 2 in GPU:\n",
            " tensor([[ 8, 10, 12],\n",
            "        [14, 16, 18]], device='cuda:0')\n"
          ]
        }
      ]
    }
  ]
}