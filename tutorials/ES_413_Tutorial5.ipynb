{
  "nbformat": 4,
  "nbformat_minor": 0,
  "metadata": {
    "colab": {
      "provenance": []
    },
    "kernelspec": {
      "name": "python3",
      "display_name": "Python 3"
    },
    "language_info": {
      "name": "python"
    }
  },
  "cells": [
    {
      "cell_type": "code",
      "execution_count": null,
      "metadata": {
        "id": "wBoSHCG0Sba1"
      },
      "outputs": [],
      "source": [
        "import torch\n",
        "import torchvision\n",
        "from torch import nn\n",
        "from torchvision.datasets import CIFAR10\n",
        "from torch.utils.data import DataLoader, Subset\n",
        "from torch.utils.data import random_split\n",
        "from torchvision import transforms\n",
        "import torch.nn.functional as F\n",
        "\n",
        "# PyTorch TensorBoard support\n",
        "from torch.utils.tensorboard import SummaryWriter\n",
        "\n",
        "from collections import namedtuple, defaultdict\n",
        "from datetime import datetime\n",
        "from sklearn.metrics import confusion_matrix\n",
        "\n",
        "import glob\n",
        "import matplotlib.pyplot as plt\n",
        "import numpy as np\n",
        "import os\n",
        "import pickle\n",
        "import random\n",
        "import seaborn as sns\n",
        "from tqdm import tqdm as tqdm"
      ]
    },
    {
      "cell_type": "code",
      "source": [],
      "metadata": {
        "id": "mhLKZ6PMS5DL"
      },
      "execution_count": null,
      "outputs": []
    },
    {
      "cell_type": "markdown",
      "source": [
        "##### **Loading CIFAR10 dataset** (Canadian Institute for Advanced Research)"
      ],
      "metadata": {
        "id": "10qDhpjUT_Re"
      }
    },
    {
      "cell_type": "markdown",
      "source": [
        "**Note**: The CIFAR-10 dataset consists of 60000 32x32 colour images in 10 classes, with 6000 images per class. There are 50000 training images and 10000 test images.\n",
        "Links: [[1](https://www.tensorflow.org/api_docs/python/tf/keras/datasets/cifar10)][[2](https://www.cs.toronto.edu/~kriz/cifar.html)]"
      ],
      "metadata": {
        "id": "DxZOeSsyUDpH"
      }
    },
    {
      "cell_type": "code",
      "source": [
        "transform = transforms.Compose(\n",
        "    [transforms.ToTensor(),\n",
        "     transforms.Normalize((0.5, 0.5, 0.5), (0.5, 0.5, 0.5))])\n",
        "\n",
        "batch_size = 4\n",
        "\n",
        "trainset = CIFAR10(root='./data', train=True, download=True, transform=transform)\n",
        "trainloader = torch.utils.data.DataLoader(trainset, batch_size=batch_size,\n",
        "                                          shuffle=True)\n",
        "\n",
        "testset = CIFAR10(root='./data', train=False, download=True, transform=transform)\n",
        "testloader = torch.utils.data.DataLoader(testset, batch_size=batch_size,\n",
        "                                         shuffle=False)\n",
        "\n",
        "classes = ('plane', 'car', 'bird', 'cat',\n",
        "           'deer', 'dog', 'frog', 'horse', 'ship', 'truck')"
      ],
      "metadata": {
        "colab": {
          "base_uri": "https://localhost:8080/"
        },
        "id": "MP7JiCdgUflW",
        "outputId": "aa9b7cb1-a9da-41f0-9e8a-1c6f1499e61e"
      },
      "execution_count": null,
      "outputs": [
        {
          "output_type": "stream",
          "name": "stdout",
          "text": [
            "Files already downloaded and verified\n",
            "Files already downloaded and verified\n"
          ]
        }
      ]
    },
    {
      "cell_type": "markdown",
      "source": [
        "### Dataset visualization"
      ],
      "metadata": {
        "id": "AYkvteDcbVGk"
      }
    },
    {
      "cell_type": "code",
      "source": [
        "print(f\"Length of trainset: {len(trainloader.dataset)} and testset: {len(testloader.dataset)} \")"
      ],
      "metadata": {
        "colab": {
          "base_uri": "https://localhost:8080/"
        },
        "id": "Xtvyb5iUS45c",
        "outputId": "a47d50c0-f144-49ae-ac05-e3269a47832c"
      },
      "execution_count": null,
      "outputs": [
        {
          "output_type": "stream",
          "name": "stdout",
          "text": [
            "Length of trainset: 50000 and testset: 10000 \n"
          ]
        }
      ]
    },
    {
      "cell_type": "code",
      "source": [
        "print(f\"Unique classes: {np.unique(trainloader.dataset.targets)}\")"
      ],
      "metadata": {
        "colab": {
          "base_uri": "https://localhost:8080/"
        },
        "id": "Q9ZhTCsmYRug",
        "outputId": "23b29028-bf33-414a-8076-361dba7825f1"
      },
      "execution_count": null,
      "outputs": [
        {
          "output_type": "stream",
          "name": "stdout",
          "text": [
            "Unique classes: [0 1 2 3 4 5 6 7 8 9]\n"
          ]
        }
      ]
    },
    {
      "cell_type": "code",
      "source": [
        "print(f\"Shape of image: {trainloader.dataset.data[0].shape}\")"
      ],
      "metadata": {
        "colab": {
          "base_uri": "https://localhost:8080/"
        },
        "id": "OlT5-gmxZGmF",
        "outputId": "2d3c6951-7c06-4a00-8492-25d5dac364c1"
      },
      "execution_count": null,
      "outputs": [
        {
          "output_type": "stream",
          "name": "stdout",
          "text": [
            "Shape of image: (32, 32, 3)\n"
          ]
        }
      ]
    },
    {
      "cell_type": "code",
      "source": [
        "fig, axes = plt.subplots(3,10)\n",
        "[axi.set_axis_off() for axi in axes.ravel()]\n",
        "for i, ax in enumerate(axes.flat):\n",
        "    ax.imshow(trainloader.dataset.data[i])"
      ],
      "metadata": {
        "colab": {
          "base_uri": "https://localhost:8080/",
          "height": 213
        },
        "id": "ufDEMG3yaGXR",
        "outputId": "4c8eeed6-e1ff-46c3-86c1-b5d206a18a30"
      },
      "execution_count": null,
      "outputs": [
        {
          "output_type": "display_data",
          "data": {
            "text/plain": [
              "<Figure size 432x288 with 30 Axes>"
            ],
            "image/png": "[encoded data removed]"
          },
          "metadata": {
            "needs_background": "light"
          }
        }
      ]
    },
    {
      "cell_type": "code",
      "source": [],
      "metadata": {
        "id": "adF4qoQ6dHXH"
      },
      "execution_count": null,
      "outputs": []
    },
    {
      "cell_type": "markdown",
      "source": [
        "### Splitting train into train and validation set"
      ],
      "metadata": {
        "id": "TZtO0decjGb1"
      }
    },
    {
      "cell_type": "code",
      "source": [
        "train_val_set = CIFAR10(root='./data', train=True, download=True, transform=transform)\n",
        "\n",
        "val_size = 5000\n",
        "train_size = len(train_val_set) - val_size\n",
        "trainset, valset = random_split(train_val_set, [train_size, val_size])"
      ],
      "metadata": {
        "colab": {
          "base_uri": "https://localhost:8080/"
        },
        "id": "nqVGeT5FjLro",
        "outputId": "fcfc4ce3-baae-4e36-d985-7148d03226fe"
      },
      "execution_count": null,
      "outputs": [
        {
          "output_type": "stream",
          "name": "stdout",
          "text": [
            "Files already downloaded and verified\n"
          ]
        }
      ]
    },
    {
      "cell_type": "code",
      "source": [
        "trainloader = torch.utils.data.DataLoader(trainset, batch_size=batch_size,\n",
        "                                          shuffle=True)\n",
        "valloader = torch.utils.data.DataLoader(valset, batch_size=batch_size,\n",
        "                                         shuffle=True)\n"
      ],
      "metadata": {
        "id": "KkaJGX77jbgZ"
      },
      "execution_count": null,
      "outputs": []
    },
    {
      "cell_type": "code",
      "source": [
        "print(\"Train, val and test sizes: \")\n",
        "print(f\"{len(trainset)}, {len(valset)}, {len(testset)}\")"
      ],
      "metadata": {
        "colab": {
          "base_uri": "https://localhost:8080/"
        },
        "id": "d6NNUQl9jhgX",
        "outputId": "f0617d20-80e5-4aa0-e1fd-7c80060ad6e2"
      },
      "execution_count": null,
      "outputs": [
        {
          "output_type": "stream",
          "name": "stdout",
          "text": [
            "Train, val and test sizes: \n",
            "45000, 5000, 10000\n"
          ]
        }
      ]
    },
    {
      "cell_type": "markdown",
      "source": [
        "\n",
        "\n",
        "---\n",
        "\n",
        "\n",
        "\n",
        "---\n",
        "\n"
      ],
      "metadata": {
        "id": "ZUmKQQULjykZ"
      }
    },
    {
      "cell_type": "markdown",
      "source": [
        "### Let's start by defining some activation functions:"
      ],
      "metadata": {
        "id": "5NyNVnenekQE"
      }
    },
    {
      "cell_type": "code",
      "source": [
        "ActivationFunction = namedtuple('Activations', 'name func')\n",
        "activation_dict = {'relu': ActivationFunction('relu', F.relu), 'sigmoiod': ActivationFunction('sigmoid', F.sigmoid)}"
      ],
      "metadata": {
        "id": "65lCxDv1eoD3"
      },
      "execution_count": null,
      "outputs": []
    },
    {
      "cell_type": "markdown",
      "source": [
        "Testing ReLU activation"
      ],
      "metadata": {
        "id": "b3WiS0LzfZQI"
      }
    },
    {
      "cell_type": "code",
      "source": [
        "x = np.arange(-5, 5, 0.1)\n",
        "relu_x = activation_dict['relu'].func(torch.Tensor(x))"
      ],
      "metadata": {
        "id": "JzULyThCe2dl"
      },
      "execution_count": null,
      "outputs": []
    },
    {
      "cell_type": "code",
      "source": [
        "plt.plot(x, relu_x.numpy())\n",
        "plt.xlabel('x')\n",
        "plt.ylabel('ReLU(x)')"
      ],
      "metadata": {
        "colab": {
          "base_uri": "https://localhost:8080/",
          "height": 298
        },
        "id": "zz-6JzERfgFg",
        "outputId": "c2ed8cf6-980d-4d12-a7fe-be7df875531a"
      },
      "execution_count": null,
      "outputs": [
        {
          "output_type": "execute_result",
          "data": {
            "text/plain": [
              "Text(0, 0.5, 'ReLU(x)')"
            ]
          },
          "metadata": {},
          "execution_count": 46
        },
        {
          "output_type": "display_data",
          "data": {
            "text/plain": [
              "<Figure size 432x288 with 1 Axes>"
            ],
            "image/png": "[encoded data removed]"
          },
          "metadata": {
            "needs_background": "light"
          }
        }
      ]
    },
    {
      "cell_type": "markdown",
      "source": [
        "Try out the following:\n",
        "\n",
        "\n",
        "1.   Plot Sigmoid curve\n",
        "2.   Add tanh activation function to the activation dict and plot\n",
        "\n"
      ],
      "metadata": {
        "id": "kd7fxhkSfvWP"
      }
    },
    {
      "cell_type": "markdown",
      "source": [
        "### MLP "
      ],
      "metadata": {
        "id": "Xqlx0DvVdV9G"
      }
    },
    {
      "cell_type": "markdown",
      "source": [
        "In this toy example, we will define a two hidden layer MLP with ReLU activation function."
      ],
      "metadata": {
        "id": "XyoV_skteF_0"
      }
    },
    {
      "cell_type": "code",
      "source": [
        "class FeedForwardNetwork(nn.Module):\n",
        "    def __init__(self, input_size, output_size):\n",
        "        super().__init__()\n",
        "\n",
        "        hparams = {'num_layers': 2, 'hidden_sizes': [50, 30, output_size], 'activation_func': 'relu'}\n",
        "        num_layers = hparams['num_layers']\n",
        "        hidden_sizes = hparams['hidden_sizes']\n",
        "        activation_func = hparams['activation_func']\n",
        "        \n",
        "        if len(hidden_sizes) == num_layers-1:\n",
        "            hidden_sizes.append(output_size)\n",
        "        elif hidden_sizes[-1] != output_size:\n",
        "            print(\"Last layer size {} is not equal to the output size {}!\".format(hidden_sizes[-1], output_size))\n",
        "            raise ValueError('Last layer size!= output size!')\n",
        "        \n",
        "        hidden_sizes = [input_size] + hidden_sizes\n",
        "\n",
        "        self.fc1 = nn.Linear(hidden_sizes[0], hidden_sizes[1])\n",
        "        self.relu1 = nn.ReLU()\n",
        "        self.fc2 = nn.Linear(hidden_sizes[1], hidden_sizes[2])\n",
        "        self.relu2 = nn.ReLU()\n",
        "        self.fc3 = nn.Linear(hidden_sizes[2], hidden_sizes[3])\n",
        "        self.activation_func = activation_dict[activation_func].func\n",
        "\n",
        "    def forward(self, x):\n",
        "        x = self.relu1(self.fc1(x))\n",
        "        x = self.relu2(self.fc2(x))\n",
        "        x = self.fc3(x)\n",
        "        return x\n",
        "        "
      ],
      "metadata": {
        "id": "V9-W3HhNdVji"
      },
      "execution_count": null,
      "outputs": []
    },
    {
      "cell_type": "code",
      "source": [
        "model = FeedForwardNetwork(32*32*3, 10)\n",
        "print(model)"
      ],
      "metadata": {
        "colab": {
          "base_uri": "https://localhost:8080/"
        },
        "id": "qDP-upDauaSA",
        "outputId": "2fb2dc57-87ab-449d-b1d7-e53631d94bf5"
      },
      "execution_count": null,
      "outputs": [
        {
          "output_type": "stream",
          "name": "stdout",
          "text": [
            "FeedForwardNetwork(\n",
            "  (fc1): Linear(in_features=3072, out_features=50, bias=True)\n",
            "  (relu1): ReLU()\n",
            "  (fc2): Linear(in_features=50, out_features=30, bias=True)\n",
            "  (relu2): ReLU()\n",
            "  (fc3): Linear(in_features=30, out_features=10, bias=True)\n",
            ")\n"
          ]
        }
      ]
    },
    {
      "cell_type": "code",
      "source": [
        "dir(model)"
      ],
      "metadata": {
        "colab": {
          "base_uri": "https://localhost:8080/"
        },
        "id": "szJ7uRW5Njgy",
        "outputId": "1d055b1b-3943-4a77-d49d-0a2fa97acb12"
      },
      "execution_count": null,
      "outputs": [
        {
          "output_type": "execute_result",
          "data": {
            "text/plain": [
              "['T_destination',\n",
              " '__annotations__',\n",
              " '__call__',\n",
              " '__class__',\n",
              " '__delattr__',\n",
              " '__dict__',\n",
              " '__dir__',\n",
              " '__doc__',\n",
              " '__eq__',\n",
              " '__format__',\n",
              " '__ge__',\n",
              " '__getattr__',\n",
              " '__getattribute__',\n",
              " '__gt__',\n",
              " '__hash__',\n",
              " '__init__',\n",
              " '__init_subclass__',\n",
              " '__le__',\n",
              " '__lt__',\n",
              " '__module__',\n",
              " '__ne__',\n",
              " '__new__',\n",
              " '__reduce__',\n",
              " '__reduce_ex__',\n",
              " '__repr__',\n",
              " '__setattr__',\n",
              " '__setstate__',\n",
              " '__sizeof__',\n",
              " '__str__',\n",
              " '__subclasshook__',\n",
              " '__weakref__',\n",
              " '_apply',\n",
              " '_backward_hooks',\n",
              " '_buffers',\n",
              " '_call_impl',\n",
              " '_forward_hooks',\n",
              " '_forward_pre_hooks',\n",
              " '_get_backward_hooks',\n",
              " '_get_name',\n",
              " '_is_full_backward_hook',\n",
              " '_load_from_state_dict',\n",
              " '_load_state_dict_post_hooks',\n",
              " '_load_state_dict_pre_hooks',\n",
              " '_maybe_warn_non_full_backward_hook',\n",
              " '_modules',\n",
              " '_named_members',\n",
              " '_non_persistent_buffers_set',\n",
              " '_parameters',\n",
              " '_register_load_state_dict_pre_hook',\n",
              " '_register_state_dict_hook',\n",
              " '_replicate_for_data_parallel',\n",
              " '_save_to_state_dict',\n",
              " '_slow_forward',\n",
              " '_state_dict_hooks',\n",
              " '_version',\n",
              " 'activation_func',\n",
              " 'add_module',\n",
              " 'apply',\n",
              " 'bfloat16',\n",
              " 'buffers',\n",
              " 'children',\n",
              " 'cpu',\n",
              " 'cuda',\n",
              " 'double',\n",
              " 'dump_patches',\n",
              " 'eval',\n",
              " 'extra_repr',\n",
              " 'fc1',\n",
              " 'fc2',\n",
              " 'fc3',\n",
              " 'float',\n",
              " 'forward',\n",
              " 'get_buffer',\n",
              " 'get_extra_state',\n",
              " 'get_parameter',\n",
              " 'get_submodule',\n",
              " 'half',\n",
              " 'ipu',\n",
              " 'load_state_dict',\n",
              " 'modules',\n",
              " 'named_buffers',\n",
              " 'named_children',\n",
              " 'named_modules',\n",
              " 'named_parameters',\n",
              " 'parameters',\n",
              " 'register_backward_hook',\n",
              " 'register_buffer',\n",
              " 'register_forward_hook',\n",
              " 'register_forward_pre_hook',\n",
              " 'register_full_backward_hook',\n",
              " 'register_load_state_dict_post_hook',\n",
              " 'register_module',\n",
              " 'register_parameter',\n",
              " 'relu1',\n",
              " 'relu2',\n",
              " 'requires_grad_',\n",
              " 'set_extra_state',\n",
              " 'share_memory',\n",
              " 'state_dict',\n",
              " 'to',\n",
              " 'to_empty',\n",
              " 'train',\n",
              " 'training',\n",
              " 'type',\n",
              " 'xpu',\n",
              " 'zero_grad']"
            ]
          },
          "metadata": {},
          "execution_count": 48
        }
      ]
    },
    {
      "cell_type": "code",
      "source": [
        "32*32*3"
      ],
      "metadata": {
        "colab": {
          "base_uri": "https://localhost:8080/"
        },
        "id": "0NEyx8Z2ORRI",
        "outputId": "48a4d015-1204-4af7-dd39-4b1fbb191534"
      },
      "execution_count": null,
      "outputs": [
        {
          "output_type": "execute_result",
          "data": {
            "text/plain": [
              "3072"
            ]
          },
          "metadata": {},
          "execution_count": 51
        }
      ]
    },
    {
      "cell_type": "code",
      "source": [
        "model.state_dict()['fc1.weight'].shape, model.state_dict()['fc1.bias'].shape"
      ],
      "metadata": {
        "colab": {
          "base_uri": "https://localhost:8080/"
        },
        "id": "GrI-LBFXOF4t",
        "outputId": "bc2e50fb-25b2-437b-fcfe-3f9d8c89eb12"
      },
      "execution_count": null,
      "outputs": [
        {
          "output_type": "execute_result",
          "data": {
            "text/plain": [
              "(torch.Size([50, 3072]), torch.Size([50]))"
            ]
          },
          "metadata": {},
          "execution_count": 52
        }
      ]
    },
    {
      "cell_type": "code",
      "source": [
        "model.state_dict()"
      ],
      "metadata": {
        "colab": {
          "base_uri": "https://localhost:8080/"
        },
        "id": "LxUyngYrN8O2",
        "outputId": "25a5f692-6f47-4b07-bb00-af32ce2d6e72"
      },
      "execution_count": null,
      "outputs": [
        {
          "output_type": "execute_result",
          "data": {
            "text/plain": [
              "OrderedDict([('fc1.weight',\n",
              "              tensor([[-2.1390e-03, -1.7736e-02, -1.4439e-02,  ...,  1.4507e-02,\n",
              "                        4.0283e-03, -1.7033e-02],\n",
              "                      [-1.1094e-03, -8.7523e-03, -1.2218e-02,  ..., -1.3244e-02,\n",
              "                       -1.3292e-02, -1.2207e-02],\n",
              "                      [ 3.9284e-03,  4.3397e-03,  1.7103e-02,  ...,  3.9256e-03,\n",
              "                       -3.8224e-03, -6.1968e-03],\n",
              "                      ...,\n",
              "                      [ 1.5142e-03,  1.1131e-02, -6.6393e-03,  ...,  1.6301e-02,\n",
              "                        6.2954e-05,  4.6888e-03],\n",
              "                      [-6.4785e-03,  1.1522e-02,  1.4523e-02,  ..., -9.0570e-03,\n",
              "                        1.3937e-03,  1.2525e-02],\n",
              "                      [-1.5978e-02,  9.1471e-04,  3.2694e-03,  ..., -9.4316e-03,\n",
              "                       -8.9484e-03, -1.2853e-02]])),\n",
              "             ('fc1.bias',\n",
              "              tensor([ 0.0140,  0.0005,  0.0179,  0.0156, -0.0061,  0.0134,  0.0018,  0.0088,\n",
              "                      -0.0147,  0.0017,  0.0104, -0.0064, -0.0074, -0.0101, -0.0042, -0.0072,\n",
              "                      -0.0064,  0.0119,  0.0103,  0.0035,  0.0134, -0.0059,  0.0042,  0.0007,\n",
              "                       0.0010, -0.0095, -0.0108,  0.0149,  0.0093,  0.0049, -0.0140, -0.0134,\n",
              "                       0.0023,  0.0026, -0.0138, -0.0131, -0.0128, -0.0178,  0.0065, -0.0088,\n",
              "                       0.0141, -0.0144,  0.0035,  0.0035,  0.0170,  0.0170,  0.0003,  0.0128,\n",
              "                       0.0135,  0.0008])),\n",
              "             ('fc2.weight',\n",
              "              tensor([[-0.0280, -0.0106,  0.1105,  ..., -0.0829,  0.0409,  0.1041],\n",
              "                      [ 0.0257,  0.0769,  0.1066,  ..., -0.0780, -0.1401, -0.0933],\n",
              "                      [-0.0580,  0.0238, -0.0712,  ..., -0.0664,  0.0095, -0.0169],\n",
              "                      ...,\n",
              "                      [-0.0197, -0.0343, -0.0097,  ..., -0.0239, -0.0422,  0.0007],\n",
              "                      [ 0.1299,  0.0034,  0.0283,  ..., -0.0355, -0.0352,  0.1332],\n",
              "                      [-0.0494,  0.1099, -0.1282,  ...,  0.1144,  0.1209, -0.0026]])),\n",
              "             ('fc2.bias',\n",
              "              tensor([ 0.0171,  0.0750,  0.0595, -0.0512, -0.0605, -0.0333,  0.0868,  0.1298,\n",
              "                       0.0330, -0.1275,  0.1164, -0.1112,  0.0781,  0.1333, -0.1007, -0.0115,\n",
              "                       0.0857,  0.0916, -0.1408,  0.0044,  0.0960, -0.0281, -0.0379,  0.0628,\n",
              "                       0.1309, -0.0224, -0.0228,  0.1073, -0.0993, -0.1305])),\n",
              "             ('fc3.weight',\n",
              "              tensor([[-0.1151,  0.1652, -0.0295, -0.0591, -0.0302,  0.1244,  0.1816, -0.0235,\n",
              "                        0.0433,  0.0803,  0.0711,  0.0185, -0.0387,  0.1127, -0.1747,  0.0404,\n",
              "                       -0.0823, -0.1260,  0.1393,  0.0859,  0.1776,  0.0645, -0.0639, -0.1542,\n",
              "                        0.0226, -0.1531,  0.0913, -0.1594, -0.1757, -0.1191],\n",
              "                      [-0.1792, -0.0995,  0.1528, -0.1308, -0.0003, -0.1072,  0.1693,  0.1717,\n",
              "                       -0.1783, -0.1292, -0.0552, -0.0255, -0.0762,  0.1698,  0.0698,  0.1343,\n",
              "                        0.1302,  0.0036,  0.1124, -0.1552, -0.0202,  0.1040,  0.1097,  0.1281,\n",
              "                        0.0900,  0.0043,  0.1359,  0.0014,  0.1582,  0.1436],\n",
              "                      [ 0.0973, -0.0585, -0.1579, -0.1591, -0.1198, -0.1711, -0.1349,  0.1647,\n",
              "                       -0.0023,  0.0999, -0.0918,  0.1534,  0.1318,  0.0679, -0.0318, -0.1323,\n",
              "                        0.1437,  0.0671,  0.0629,  0.0795, -0.0191,  0.1237, -0.0227, -0.0812,\n",
              "                        0.0098,  0.0252, -0.0529,  0.0701, -0.1187, -0.0448],\n",
              "                      [ 0.0112, -0.0668,  0.1179, -0.0429, -0.0924, -0.1058,  0.1223, -0.1776,\n",
              "                        0.0602, -0.0057,  0.1501, -0.0307,  0.1232,  0.0500, -0.1140, -0.0346,\n",
              "                        0.0297, -0.1516,  0.1557,  0.0378,  0.0714,  0.0044, -0.0945,  0.1451,\n",
              "                       -0.0569, -0.0727,  0.0945, -0.0473, -0.0869, -0.1149],\n",
              "                      [-0.1021, -0.0060,  0.0650,  0.1506, -0.0341,  0.0876,  0.1049,  0.1493,\n",
              "                       -0.1267, -0.0677,  0.0113, -0.0017,  0.0571,  0.1354, -0.0478, -0.1296,\n",
              "                       -0.0199,  0.0019, -0.1639, -0.0427,  0.0689,  0.0755, -0.0346,  0.0541,\n",
              "                       -0.1319, -0.1370,  0.0157, -0.1763, -0.0925, -0.1401],\n",
              "                      [-0.0987, -0.1005, -0.0729, -0.1626,  0.0482, -0.0643, -0.0421, -0.0641,\n",
              "                        0.0581, -0.1733,  0.1753,  0.0236, -0.0505, -0.0260,  0.0975,  0.0113,\n",
              "                        0.0432,  0.1634, -0.0971,  0.0831,  0.0259,  0.0660, -0.0170, -0.0444,\n",
              "                       -0.1038,  0.1632, -0.1694, -0.0986,  0.1704, -0.1487],\n",
              "                      [-0.0687,  0.0566,  0.1641, -0.0600, -0.0673,  0.0954,  0.0478, -0.1086,\n",
              "                       -0.1091, -0.0296, -0.1364, -0.1797, -0.1132, -0.0112, -0.0491,  0.1580,\n",
              "                        0.1316,  0.0500,  0.0146,  0.0471,  0.1300,  0.0325, -0.0697, -0.0597,\n",
              "                       -0.1728,  0.0322,  0.0390, -0.0579, -0.1498, -0.0707],\n",
              "                      [-0.1529, -0.0185,  0.1554,  0.1009,  0.0586,  0.0749, -0.0055,  0.0694,\n",
              "                       -0.0498, -0.1183, -0.0978, -0.1204, -0.0120, -0.1582,  0.1428,  0.0577,\n",
              "                       -0.0645,  0.0831, -0.1673,  0.0324,  0.1111, -0.0103,  0.0732,  0.1104,\n",
              "                       -0.0374,  0.1330,  0.0158,  0.0017,  0.1563, -0.0707],\n",
              "                      [-0.1638, -0.0020, -0.0079,  0.1582,  0.1808, -0.0609, -0.0615, -0.0956,\n",
              "                        0.0915,  0.1212, -0.1578,  0.0521, -0.1093,  0.1545, -0.1324,  0.0017,\n",
              "                        0.1412,  0.0892, -0.1786, -0.0396,  0.1154, -0.1659,  0.0316,  0.1698,\n",
              "                        0.0822,  0.1328, -0.0891, -0.1262, -0.1754,  0.1680],\n",
              "                      [ 0.0247,  0.0832,  0.0442, -0.0319,  0.0488,  0.1343, -0.0108, -0.1691,\n",
              "                       -0.0818,  0.0074, -0.1109,  0.1376, -0.1719, -0.1510, -0.0505,  0.0425,\n",
              "                       -0.0340,  0.0446,  0.0888,  0.0318, -0.1267,  0.1013, -0.0285, -0.0711,\n",
              "                       -0.1764, -0.0276, -0.0323,  0.0191,  0.0376, -0.0731]])),\n",
              "             ('fc3.bias',\n",
              "              tensor([-0.1476, -0.0282, -0.1486,  0.0621,  0.1411, -0.1316,  0.1206,  0.0289,\n",
              "                      -0.0072, -0.0701]))])"
            ]
          },
          "metadata": {},
          "execution_count": 49
        }
      ]
    },
    {
      "cell_type": "markdown",
      "source": [
        "### Setting up the Model Trainer "
      ],
      "metadata": {
        "id": "NhW0mTwfhEA2"
      }
    },
    {
      "cell_type": "code",
      "source": [
        "!mkdir ckpt"
      ],
      "metadata": {
        "id": "Y1-7t0StrTPW"
      },
      "execution_count": null,
      "outputs": []
    },
    {
      "cell_type": "code",
      "source": [
        "def model_trainer():\n",
        "    model_save_loc = \"./ckpt/{}_{}\"\n",
        "\n",
        "    lr         = 2e-4\n",
        "    num_epochs = 2\n",
        "\n",
        "    mlp           = FeedForwardNetwork(32*32*3, 10)\n",
        "    loss_function = nn.CrossEntropyLoss()\n",
        "    optimizer     = torch.optim.Adam(mlp.parameters(), lr=lr)\n",
        "\n",
        "    for epoch in range(num_epochs):\n",
        "        train_running_loss = []\n",
        "        val_running_loss   = []\n",
        "\n",
        "        # Start training\n",
        "        mlp.train()\n",
        "        for step_idx, data in enumerate(tqdm(trainloader, desc=\"Training\")):\n",
        "            optimizer.zero_grad()       #  clear out gradients computed previously\n",
        "\n",
        "            data_x, targets = data\n",
        "            inputs  = torch.flatten(data_x, 1)\n",
        "            targets = targets.type(torch.LongTensor)\n",
        "            outputs = mlp(inputs)\n",
        "\n",
        "            # compute loss\n",
        "            loss = loss_function(outputs, targets)\n",
        "            loss.backward()             # store the gradients\n",
        "            optimizer.step()            #  iterate over all parameters and update their values\n",
        "            train_running_loss.append(loss.item())\n",
        "\n",
        "            if step_idx % 3000 == 0:\n",
        "                torch.save(mlp.state_dict(), model_save_loc.format(epoch, step_idx))\n",
        "                print(f\"Saved checkpoint at step {step_idx}\")\n",
        "\n",
        "        print(\"Epoch: {}/{} - Train loss: {:.4f}\".format(epoch+1, num_epochs, np.mean(train_running_loss)))\n",
        "\n",
        "        # Validation\n",
        "        mlp.eval()\n",
        "        with torch.no_grad():\n",
        "            for step_idx, data in enumerate(tqdm(valloader, desc=\"Validation\")):\n",
        "                data_x, targets = data\n",
        "                inputs  = torch.flatten(data_x, 1)\n",
        "                targets = targets.type(torch.LongTensor)\n",
        "                outputs = mlp(inputs)\n",
        "                loss = loss_function(outputs, targets)\n",
        "                val_running_loss.append(loss.item())\n",
        "            \n",
        "            print(\"Epoch: {}/{} - Validation loss: {:.4f}\".format(epoch+1, num_epochs, np.mean(val_running_loss)))\n",
        "\n",
        "    torch.save(mlp.state_dict(), './pytorch_model.bin')"
      ],
      "metadata": {
        "id": "wehHuu0ThDjf"
      },
      "execution_count": null,
      "outputs": []
    },
    {
      "cell_type": "markdown",
      "source": [
        "```model.eval()``` will notify all your layers that you are in eval mode, that way, batchnorm or dropout layers will work in eval mode instead of training mode.\n",
        "\n",
        "```torch.no_grad()``` impacts the autograd engine and deactivate it. It will reduce memory usage and speed up computations but you won’t be able to backprop (which you don’t want in an eval script)."
      ],
      "metadata": {
        "id": "nedWD6Ln5OoC"
      }
    },
    {
      "cell_type": "code",
      "source": [
        "model_trainer()"
      ],
      "metadata": {
        "colab": {
          "base_uri": "https://localhost:8080/"
        },
        "id": "QLNgOVQQdIA-",
        "outputId": "ddddd44a-34b9-44c0-b1b8-28b001327c4b"
      },
      "execution_count": null,
      "outputs": [
        {
          "output_type": "stream",
          "name": "stderr",
          "text": [
            "Training:   0%|          | 45/11250 [00:00<00:49, 224.57it/s]"
          ]
        },
        {
          "output_type": "stream",
          "name": "stdout",
          "text": [
            "Saved checkpoint at step 0\n"
          ]
        },
        {
          "output_type": "stream",
          "name": "stderr",
          "text": [
            "Training:  27%|██▋       | 3035/11250 [00:11<00:30, 266.18it/s]"
          ]
        },
        {
          "output_type": "stream",
          "name": "stdout",
          "text": [
            "Saved checkpoint at step 3000\n"
          ]
        },
        {
          "output_type": "stream",
          "name": "stderr",
          "text": [
            "Training:  54%|█████▎    | 6029/11250 [00:22<00:19, 263.61it/s]"
          ]
        },
        {
          "output_type": "stream",
          "name": "stdout",
          "text": [
            "Saved checkpoint at step 6000\n"
          ]
        },
        {
          "output_type": "stream",
          "name": "stderr",
          "text": [
            "Training:  80%|████████  | 9037/11250 [00:34<00:08, 259.41it/s]"
          ]
        },
        {
          "output_type": "stream",
          "name": "stdout",
          "text": [
            "Saved checkpoint at step 9000\n"
          ]
        },
        {
          "output_type": "stream",
          "name": "stderr",
          "text": [
            "Training: 100%|██████████| 11250/11250 [00:42<00:00, 263.88it/s]\n"
          ]
        },
        {
          "output_type": "stream",
          "name": "stdout",
          "text": [
            "Epoch: 1/2 - Train loss: 1.6949\n"
          ]
        },
        {
          "output_type": "stream",
          "name": "stderr",
          "text": [
            "Validation: 100%|██████████| 1250/1250 [00:02<00:00, 559.18it/s]\n"
          ]
        },
        {
          "output_type": "stream",
          "name": "stdout",
          "text": [
            "Epoch: 1/2 - Validation loss: 1.5812\n"
          ]
        },
        {
          "output_type": "stream",
          "name": "stderr",
          "text": [
            "Training:   0%|          | 26/11250 [00:00<00:44, 253.23it/s]"
          ]
        },
        {
          "output_type": "stream",
          "name": "stdout",
          "text": [
            "Saved checkpoint at step 0\n"
          ]
        },
        {
          "output_type": "stream",
          "name": "stderr",
          "text": [
            "Training:  27%|██▋       | 3053/11250 [00:11<00:31, 259.37it/s]"
          ]
        },
        {
          "output_type": "stream",
          "name": "stdout",
          "text": [
            "Saved checkpoint at step 3000\n"
          ]
        },
        {
          "output_type": "stream",
          "name": "stderr",
          "text": [
            "Training:  54%|█████▎    | 6037/11250 [00:22<00:19, 265.93it/s]"
          ]
        },
        {
          "output_type": "stream",
          "name": "stdout",
          "text": [
            "Saved checkpoint at step 6000\n"
          ]
        },
        {
          "output_type": "stream",
          "name": "stderr",
          "text": [
            "Training:  80%|████████  | 9043/11250 [00:34<00:09, 240.00it/s]"
          ]
        },
        {
          "output_type": "stream",
          "name": "stdout",
          "text": [
            "Saved checkpoint at step 9000\n"
          ]
        },
        {
          "output_type": "stream",
          "name": "stderr",
          "text": [
            "Training: 100%|██████████| 11250/11250 [00:43<00:00, 261.00it/s]\n"
          ]
        },
        {
          "output_type": "stream",
          "name": "stdout",
          "text": [
            "Epoch: 2/2 - Train loss: 1.5052\n"
          ]
        },
        {
          "output_type": "stream",
          "name": "stderr",
          "text": [
            "Validation: 100%|██████████| 1250/1250 [00:02<00:00, 545.95it/s]"
          ]
        },
        {
          "output_type": "stream",
          "name": "stdout",
          "text": [
            "Epoch: 2/2 - Validation loss: 1.5327\n"
          ]
        },
        {
          "output_type": "stream",
          "name": "stderr",
          "text": [
            "\n"
          ]
        }
      ]
    },
    {
      "cell_type": "code",
      "source": [],
      "metadata": {
        "id": "Tv5bXdYqbSr3"
      },
      "execution_count": null,
      "outputs": []
    },
    {
      "cell_type": "markdown",
      "source": [
        "Try out the following: \n",
        "\n",
        "1.   Explore how to use a Sequential container for the model architecture.\n",
        "https://pytorch.org/docs/stable/generated/torch.nn.Sequential.html\n",
        "2.   Plot the train and validation loss for each batch and epoch.\n",
        "3.   Plot confusion matrix for each class' accuracy on the test set.\n",
        "4.   Use tensorboard/wandb for plots.\n",
        "\n"
      ],
      "metadata": {
        "id": "eNA5cRjLc9Hb"
      }
    },
    {
      "cell_type": "code",
      "source": [
        "!pwd"
      ],
      "metadata": {
        "colab": {
          "base_uri": "https://localhost:8080/"
        },
        "id": "MuODmY06bSie",
        "outputId": "216fdf0a-0d77-4a3b-884e-1f6e8cc29b04"
      },
      "execution_count": null,
      "outputs": [
        {
          "output_type": "stream",
          "name": "stdout",
          "text": [
            "/content\n"
          ]
        }
      ]
    },
    {
      "cell_type": "markdown",
      "source": [
        "References:\n",
        "https://pytorch.org/tutorials/beginner/blitz/cifar10_tutorial.html"
      ],
      "metadata": {
        "id": "2Dem3ojpS16E"
      }
    }
  ]
}