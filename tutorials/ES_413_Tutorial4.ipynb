{
  "nbformat": 4,
  "nbformat_minor": 0,
  "metadata": {
    "colab": {
      "provenance": []
    },
    "kernelspec": {
      "name": "python3",
      "display_name": "Python 3"
    },
    "language_info": {
      "name": "python"
    },
    "accelerator": "GPU",
    "gpuClass": "standard"
  },
  "cells": [
    {
      "cell_type": "markdown",
      "source": [
        "# Download Packages"
      ],
      "metadata": {
        "id": "7BvxQtMg47hA"
      }
    },
    {
      "cell_type": "code",
      "source": [
        "!pip install idx2numpy"
      ],
      "metadata": {
        "colab": {
          "base_uri": "https://localhost:8080/"
        },
        "id": "4CFPM-SryVz_",
        "outputId": "6d61df5e-691a-4974-b3d7-4d0092d3905f"
      },
      "execution_count": null,
      "outputs": [
        {
          "output_type": "stream",
          "name": "stdout",
          "text": [
            "Looking in indexes: https://pypi.org/simple, https://us-python.pkg.dev/colab-wheels/public/simple/\n",
            "Collecting idx2numpy\n",
            "  Downloading idx2numpy-1.2.3.tar.gz (6.8 kB)\n",
            "  Preparing metadata (setup.py) ... \u001b[?25l\u001b[?25hdone\n",
            "Requirement already satisfied: numpy in /usr/local/lib/python3.8/dist-packages (from idx2numpy) (1.21.6)\n",
            "Requirement already satisfied: six in /usr/local/lib/python3.8/dist-packages (from idx2numpy) (1.15.0)\n",
            "Building wheels for collected packages: idx2numpy\n",
            "  Building wheel for idx2numpy (setup.py) ... \u001b[?25l\u001b[?25hdone\n",
            "  Created wheel for idx2numpy: filename=idx2numpy-1.2.3-py3-none-any.whl size=7919 sha256=b39b1dedeb48ad851f76a108fc573e3b725b0da7226b82d2594bf7cd4bfa7443\n",
            "  Stored in directory: /root/.cache/pip/wheels/27/40/a8/6447ee4a00cb87e2084e1ef1df5c38433720cc1090be082842\n",
            "Successfully built idx2numpy\n",
            "Installing collected packages: idx2numpy\n",
            "Successfully installed idx2numpy-1.2.3\n"
          ]
        }
      ]
    },
    {
      "cell_type": "code",
      "source": [
        "!wget http://fashion-mnist.s3-website.eu-central-1.amazonaws.com/train-images-idx3-ubyte.gz\n",
        "!wget http://fashion-mnist.s3-website.eu-central-1.amazonaws.com/train-labels-idx1-ubyte.gz\n",
        "!wget http://fashion-mnist.s3-website.eu-central-1.amazonaws.com/t10k-images-idx3-ubyte.gz\n",
        "!wget http://fashion-mnist.s3-website.eu-central-1.amazonaws.com/t10k-labels-idx1-ubyte.gz\n",
        "!gunzip /content/train-images-idx3-ubyte.gz\n",
        "!gunzip /content/train-labels-idx1-ubyte.gz\n",
        "!gunzip /content/t10k-images-idx3-ubyte.gz\n",
        "!gunzip /content/t10k-labels-idx1-ubyte.gz"
      ],
      "metadata": {
        "colab": {
          "base_uri": "https://localhost:8080/"
        },
        "id": "HQQSQkiB2eZW",
        "outputId": "9fdb9c14-31ce-443e-9b65-a1522c1e9da8"
      },
      "execution_count": null,
      "outputs": [
        {
          "output_type": "stream",
          "name": "stdout",
          "text": [
            "--2023-01-24 08:48:35--  http://fashion-mnist.s3-website.eu-central-1.amazonaws.com/train-images-idx3-ubyte.gz\n",
            "Resolving fashion-mnist.s3-website.eu-central-1.amazonaws.com (fashion-mnist.s3-website.eu-central-1.amazonaws.com)... 52.219.169.52\n",
            "Connecting to fashion-mnist.s3-website.eu-central-1.amazonaws.com (fashion-mnist.s3-website.eu-central-1.amazonaws.com)|52.219.169.52|:80... connected.\n",
            "HTTP request sent, awaiting response... 200 OK\n",
            "Length: 26421880 (25M) [binary/octet-stream]\n",
            "Saving to: ‘train-images-idx3-ubyte.gz’\n",
            "\n",
            "train-images-idx3-u 100%[===================>]  25.20M  8.42MB/s    in 3.0s    \n",
            "\n",
            "2023-01-24 08:48:39 (8.42 MB/s) - ‘train-images-idx3-ubyte.gz’ saved [26421880/26421880]\n",
            "\n",
            "--2023-01-24 08:48:39--  http://fashion-mnist.s3-website.eu-central-1.amazonaws.com/train-labels-idx1-ubyte.gz\n",
            "Resolving fashion-mnist.s3-website.eu-central-1.amazonaws.com (fashion-mnist.s3-website.eu-central-1.amazonaws.com)... 52.219.169.52\n",
            "Connecting to fashion-mnist.s3-website.eu-central-1.amazonaws.com (fashion-mnist.s3-website.eu-central-1.amazonaws.com)|52.219.169.52|:80... connected.\n",
            "HTTP request sent, awaiting response... 200 OK\n",
            "Length: 29515 (29K) [binary/octet-stream]\n",
            "Saving to: ‘train-labels-idx1-ubyte.gz’\n",
            "\n",
            "train-labels-idx1-u 100%[===================>]  28.82K   142KB/s    in 0.2s    \n",
            "\n",
            "2023-01-24 08:48:40 (142 KB/s) - ‘train-labels-idx1-ubyte.gz’ saved [29515/29515]\n",
            "\n",
            "--2023-01-24 08:48:40--  http://fashion-mnist.s3-website.eu-central-1.amazonaws.com/t10k-images-idx3-ubyte.gz\n",
            "Resolving fashion-mnist.s3-website.eu-central-1.amazonaws.com (fashion-mnist.s3-website.eu-central-1.amazonaws.com)... 52.219.47.48\n",
            "Connecting to fashion-mnist.s3-website.eu-central-1.amazonaws.com (fashion-mnist.s3-website.eu-central-1.amazonaws.com)|52.219.47.48|:80... connected.\n",
            "HTTP request sent, awaiting response... 200 OK\n",
            "Length: 4422102 (4.2M) [binary/octet-stream]\n",
            "Saving to: ‘t10k-images-idx3-ubyte.gz’\n",
            "\n",
            "t10k-images-idx3-ub 100%[===================>]   4.22M  2.56MB/s    in 1.6s    \n",
            "\n",
            "2023-01-24 08:48:42 (2.56 MB/s) - ‘t10k-images-idx3-ubyte.gz’ saved [4422102/4422102]\n",
            "\n",
            "--2023-01-24 08:48:42--  http://fashion-mnist.s3-website.eu-central-1.amazonaws.com/t10k-labels-idx1-ubyte.gz\n",
            "Resolving fashion-mnist.s3-website.eu-central-1.amazonaws.com (fashion-mnist.s3-website.eu-central-1.amazonaws.com)... 52.219.47.48\n",
            "Connecting to fashion-mnist.s3-website.eu-central-1.amazonaws.com (fashion-mnist.s3-website.eu-central-1.amazonaws.com)|52.219.47.48|:80... connected.\n",
            "HTTP request sent, awaiting response... 200 OK\n",
            "Length: 5148 (5.0K) [binary/octet-stream]\n",
            "Saving to: ‘t10k-labels-idx1-ubyte.gz’\n",
            "\n",
            "t10k-labels-idx1-ub 100%[===================>]   5.03K  --.-KB/s    in 0s      \n",
            "\n",
            "2023-01-24 08:48:42 (333 MB/s) - ‘t10k-labels-idx1-ubyte.gz’ saved [5148/5148]\n",
            "\n"
          ]
        }
      ]
    },
    {
      "cell_type": "markdown",
      "source": [
        "# Import packages"
      ],
      "metadata": {
        "id": "zGohunR-5Y6R"
      }
    },
    {
      "cell_type": "code",
      "source": [
        "import torch\n",
        "import numpy as np\n",
        "import matplotlib.pyplot as plt\n",
        "import idx2numpy"
      ],
      "metadata": {
        "id": "9lkEjkXz2oTv"
      },
      "execution_count": null,
      "outputs": []
    },
    {
      "cell_type": "markdown",
      "source": [
        "# Load the images"
      ],
      "metadata": {
        "id": "VZPTI90eyk-6"
      }
    },
    {
      "cell_type": "code",
      "source": [
        "train_images = idx2numpy.convert_from_file('/content/train-images-idx3-ubyte')\n",
        "train_labels = idx2numpy.convert_from_file('/content/train-labels-idx1-ubyte')\n",
        "test_images = idx2numpy.convert_from_file('/content/t10k-images-idx3-ubyte')\n",
        "test_labels = idx2numpy.convert_from_file('/content/t10k-labels-idx1-ubyte')\n",
        "\n",
        "labels_name = ['t_shirt_top', 'trouser', 'pullover', 'dress', 'coat', 'sandal', 'shirt', 'sneaker', 'bag', 'ankle_boots']"
      ],
      "metadata": {
        "id": "jeK_ly3kx-Vy"
      },
      "execution_count": null,
      "outputs": []
    },
    {
      "cell_type": "code",
      "source": [
        "plt.imshow(train_images[0])\n",
        "plt.show()\n",
        "print(\"Label:\", labels_name[train_labels[0]])"
      ],
      "metadata": {
        "colab": {
          "base_uri": "https://localhost:8080/",
          "height": 282
        },
        "id": "LTlXITfPzO-3",
        "outputId": "8625a690-b1d6-40c3-fa3b-fe71bc9a49ed"
      },
      "execution_count": null,
      "outputs": [
        {
          "output_type": "display_data",
          "data": {
            "text/plain": [
              "<Figure size 432x288 with 1 Axes>"
            ],
            "image/png": "[encoded data removed]"
          },
          "metadata": {
            "needs_background": "light"
          }
        },
        {
          "output_type": "stream",
          "name": "stdout",
          "text": [
            "Label: ankle_boots\n"
          ]
        }
      ]
    },
    {
      "cell_type": "markdown",
      "source": [
        "## Question:\n",
        "1. Write a function that prints stats of the loaded data. (number of images, number of distint classes, dimension of each image and number of images in each class)\n",
        "\n",
        "2. Write a function that will randomly select 4 images from the training set and display them along their classes."
      ],
      "metadata": {
        "id": "-Qy_1zJcyqDU"
      }
    },
    {
      "cell_type": "code",
      "source": [
        "# Write the answer here\n",
        "\n",
        "def print_data_stats(train_images,train_labels,test_images,test_labels):\n",
        "  print(\"Traing data stats:\\n\")\n",
        "  n_train_images = train_images.shape[0]\n",
        "  n_classes = len(np.unique(train_labels))\n",
        "  image_dim = train_images.shape[1:] #train_images[0].shape\n",
        "  number_images_every_class = np.unique(train_labels,return_counts=True)[1]\n",
        "\n",
        "  print(\"Test data stats:\\n\")\n",
        "  \n",
        "  pass"
      ],
      "metadata": {
        "id": "Ty5T8XZ-yAVK"
      },
      "execution_count": null,
      "outputs": []
    },
    {
      "cell_type": "code",
      "source": [
        "def show_random_4(train_images,train_labels):\n",
        "   # You can refer here for multiple plots\n",
        "   # https://www.geeksforgeeks.org/how-to-display-multiple-images-in-one-figure-correctly-in-matplotlib/#:~:text=The%20easiest%20way%20to%20display,by%20calling%20add_subplot()%20method.\n",
        "  pass"
      ],
      "metadata": {
        "id": "bTaIChFzySDr"
      },
      "execution_count": null,
      "outputs": []
    },
    {
      "cell_type": "code",
      "source": [
        "np.unique(train_labels,return_counts=True)"
      ],
      "metadata": {
        "colab": {
          "base_uri": "https://localhost:8080/"
        },
        "id": "hQ718jiO-Yfs",
        "outputId": "b759f195-2809-48d2-d412-3b9d942555a8"
      },
      "execution_count": null,
      "outputs": [
        {
          "output_type": "execute_result",
          "data": {
            "text/plain": [
              "(array([0, 1, 2, 3, 4, 5, 6, 7, 8, 9], dtype=uint8),\n",
              " array([6000, 6000, 6000, 6000, 6000, 6000, 6000, 6000, 6000, 6000]))"
            ]
          },
          "metadata": {},
          "execution_count": 12
        }
      ]
    },
    {
      "cell_type": "markdown",
      "source": [
        "# Pytorch Dataset and Dataloaders"
      ],
      "metadata": {
        "id": "ax-wdn-dzlzW"
      }
    },
    {
      "cell_type": "markdown",
      "source": [
        "## Datasets"
      ],
      "metadata": {
        "id": "7RxD2OvW8AsC"
      }
    },
    {
      "cell_type": "code",
      "source": [
        "from torch.utils.data import Dataset, DataLoader"
      ],
      "metadata": {
        "id": "OkFlD20a1q7H"
      },
      "execution_count": null,
      "outputs": []
    },
    {
      "cell_type": "code",
      "source": [
        "# Taken form https://pytorch.org/tutorials/beginner/basics/data_tutorial.html\n",
        "\n",
        "# NOT TO RUN, JUST FOR UNDERSTANDING\n",
        "# Lets go through the following code step by step\n",
        "import os\n",
        "import pandas as pd\n",
        "from torchvision.io import read_image\n",
        "\n",
        "class CustomImageDataset(Dataset):\n",
        "    def __init__(self, annotations_file, img_dir):\n",
        "        self.img_labels = pd.read_csv(annotations_file)\n",
        "        self.img_dir = img_dir\n",
        "\n",
        "    def __len__(self):\n",
        "        return len(self.img_labels)\n",
        "\n",
        "    def __getitem__(self, idx):\n",
        "        img_path = os.path.join(self.img_dir, self.img_labels.iloc[idx, 0])\n",
        "        image = read_image(img_path)\n",
        "        label = self.img_labels.iloc[idx, 1]\n",
        "        return image, label"
      ],
      "metadata": {
        "id": "G2aVeIUZ1u0r"
      },
      "execution_count": null,
      "outputs": []
    },
    {
      "cell_type": "markdown",
      "source": [
        "### Question\n",
        "1. Write a custom Dataset class for fashion MNIST. \\\\\n",
        "  Hints:\n",
        "      - What are the things I need to intialise my dataset? (The __init__ args)\n",
        "      - Make use of idx2numpy library\n",
        "      - In our data the images are already loaded into arrays\n"
      ],
      "metadata": {
        "id": "_BAb-zb06lzh"
      }
    },
    {
      "cell_type": "code",
      "source": [
        "# Write the custom Dataset class here\n",
        "class FasionMNISTImageDataset(Dataset):\n",
        "    def __init__(self, image_path,label_path): # image_path = '/content/train-images-idx3-ubyte' label_path='/content/train-labels-idx1-ubyte'\n",
        "\n",
        "      self.images = idx2numpy.convert_from_file(image_path)\n",
        "      self.labels = idx2numpy.convert_from_file(label_path)\n",
        "\n",
        "    def __len__(self):\n",
        "      return self.images.shape[0]\n",
        "\n",
        "    def __getitem__(self, idx):\n",
        "      \n",
        "      image_array = self.images[idx]\n",
        "      label = self.labels[idx]\n",
        "\n",
        "      return image_array,label"
      ],
      "metadata": {
        "id": "82YCQ2_s70T_"
      },
      "execution_count": null,
      "outputs": []
    },
    {
      "cell_type": "code",
      "source": [
        "training_data = FasionMNISTImageDataset('/content/train-images-idx3-ubyte','/content/train-labels-idx1-ubyte')\n",
        "testing_data = FasionMNISTImageDataset('/content/t10k-images-idx3-ubyte','/content/t10k-labels-idx1-ubyte')"
      ],
      "metadata": {
        "id": "sOjffimk92J7"
      },
      "execution_count": null,
      "outputs": []
    },
    {
      "cell_type": "code",
      "source": [
        "training_data"
      ],
      "metadata": {
        "colab": {
          "base_uri": "https://localhost:8080/"
        },
        "id": "fTfg2qw3InHJ",
        "outputId": "d2951c3b-6915-4ed4-f50b-2878eac300b5"
      },
      "execution_count": null,
      "outputs": [
        {
          "output_type": "execute_result",
          "data": {
            "text/plain": [
              "<__main__.FasionMNISTImageDataset at 0x7fc9ba6abdc0>"
            ]
          },
          "metadata": {},
          "execution_count": 18
        }
      ]
    },
    {
      "cell_type": "markdown",
      "source": [
        "## Dataloaders\n",
        "\n",
        "Processing 1 sample at a time is gonna take forever. So, we will use batching."
      ],
      "metadata": {
        "id": "7X1U2WEW8Hy6"
      }
    },
    {
      "cell_type": "code",
      "source": [
        "train_dataloader = DataLoader(training_data, batch_size=64, shuffle=True)\n",
        "test_dataloader = DataLoader(testing_data, batch_size=64, shuffle=True)"
      ],
      "metadata": {
        "id": "nLUVDp9u8G34"
      },
      "execution_count": null,
      "outputs": []
    },
    {
      "cell_type": "code",
      "source": [
        "for images,labels in train_dataloader:\n",
        "  print(images.size())\n",
        "  print(labels.size())\n",
        "  break"
      ],
      "metadata": {
        "colab": {
          "base_uri": "https://localhost:8080/"
        },
        "id": "WT0cdFET1bHp",
        "outputId": "8b1bfe67-3e92-4b3d-f8df-f8dabc4e9ef1"
      },
      "execution_count": null,
      "outputs": [
        {
          "output_type": "stream",
          "name": "stdout",
          "text": [
            "torch.Size([64, 28, 28])\n",
            "torch.Size([64])\n"
          ]
        },
        {
          "output_type": "stream",
          "name": "stderr",
          "text": [
            "/usr/local/lib/python3.8/dist-packages/torch/utils/data/_utils/collate.py:172: UserWarning: The given NumPy array is not writable, and PyTorch does not support non-writable tensors. This means writing to this tensor will result in undefined behavior. You may want to copy the array to protect its data or make it writable before converting it to a tensor. This type of warning will be suppressed for the rest of this program. (Triggered internally at ../torch/csrc/utils/tensor_numpy.cpp:199.)\n",
            "  return collate([torch.as_tensor(b) for b in batch], collate_fn_map=collate_fn_map)\n"
          ]
        }
      ]
    },
    {
      "cell_type": "markdown",
      "source": [
        "### Question\n",
        "\n",
        "1. Write code that will iterate through the `train_dataloader` and increment `ankle_counter` by the number of ankle images in the batch. You may use parts of the code which you wrote for data stats.\n",
        "2. Write code that will iterate throught the `test_dataloader` and show the last image in the 5th batch with a black square(a=5) in the middle.\n",
        "3. Find the mean and variance of the average pixel value of all batches."
      ],
      "metadata": {
        "id": "f7Zz2aRP_Iqp"
      }
    },
    {
      "cell_type": "code",
      "source": [
        "# Write you code here\n",
        "# Label of ankle_boots is 9\n",
        "ankle_counter = 0\n",
        "for images,labels in train_dataloader:\n",
        "  # print(labels == 9)\n",
        "  # print(torch.sum(labels == 9).item())\n",
        "  ankle_counter+=torch.sum(labels == 9).item()\n",
        "\n",
        "\n",
        "print(ankle_counter)"
      ],
      "metadata": {
        "id": "1xpgL3QBBH6D",
        "colab": {
          "base_uri": "https://localhost:8080/"
        },
        "outputId": "9b5cb227-9ad1-4c53-e83e-a30d29e67e02"
      },
      "execution_count": null,
      "outputs": [
        {
          "output_type": "stream",
          "name": "stdout",
          "text": [
            "6000\n"
          ]
        }
      ]
    },
    {
      "cell_type": "code",
      "source": [
        "# Write you code here"
      ],
      "metadata": {
        "id": "5McoYsqzFlWJ"
      },
      "execution_count": null,
      "outputs": []
    },
    {
      "cell_type": "code",
      "source": [
        "# Write you code here\n"
      ],
      "metadata": {
        "id": "5U0B2aLqH2FH"
      },
      "execution_count": null,
      "outputs": []
    }
  ]
}