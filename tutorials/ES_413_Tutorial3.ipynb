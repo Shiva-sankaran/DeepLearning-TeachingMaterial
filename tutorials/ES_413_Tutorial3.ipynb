{
  "nbformat": 4,
  "nbformat_minor": 0,
  "metadata": {
    "colab": {
      "provenance": []
    },
    "kernelspec": {
      "name": "python3",
      "display_name": "Python 3"
    },
    "language_info": {
      "name": "python"
    }
  },
  "cells": [
    {
      "cell_type": "markdown",
      "source": [
        "## Different probability distributions"
      ],
      "metadata": {
        "id": "PpVeCu1shnmw"
      }
    },
    {
      "cell_type": "markdown",
      "source": [
        "$$ f(x) = \\frac{1}{\\sigma \\sqrt{2\\pi}} e^{-\\frac{(x-\\mu)^2}{2\\sigma^2}} $$\n",
        "\n",
        "Where:\n",
        "\n",
        "$x$ is the random variable\n",
        "$\\mu$ is the mean of the distribution\n",
        "$\\sigma$ is the standard deviation of the distribution\n",
        "$\\pi$ is the mathematical constant pi (3.14...)\n",
        "$e$ is the mathematical constant e (2.718...)"
      ],
      "metadata": {
        "id": "8X7OwNX2jdl2"
      }
    },
    {
      "cell_type": "code",
      "source": [
        "import numpy as np\n",
        "import matplotlib.pyplot as plt\n",
        "import seaborn as sns\n",
        "\n",
        "# Define the mean and standard deviation of the Gaussian distribution\n",
        "mu, sigma = 0, 0.1\n",
        "\n",
        "# Generate samples from the distribution\n",
        "samples = np.random.normal(mu, sigma, 10000)\n",
        "\n",
        "# Plot the distribution using a histogram\n",
        "plt.hist(samples, bins=50, density=True)\n",
        "plt.xlabel('X')\n",
        "plt.ylabel('Probability')\n",
        "plt.title('Gaussian Distribution')\n",
        "plt.show()"
      ],
      "metadata": {
        "colab": {
          "base_uri": "https://localhost:8080/",
          "height": 295
        },
        "id": "cc0bJGiAhWtm",
        "outputId": "864f78a8-285d-46a7-b4e6-533256e25a74"
      },
      "execution_count": null,
      "outputs": [
        {
          "output_type": "display_data",
          "data": {
            "text/plain": [
              "<Figure size 432x288 with 1 Axes>"
            ],
            "image/png": "[encoded data removed]"
          },
          "metadata": {
            "needs_background": "light"
          }
        }
      ]
    },
    {
      "cell_type": "markdown",
      "source": [
        "In the first code block, we generate samples from a Gaussian distribution using the np.random.normal() function from the NumPy library. The function takes three arguments: the mean of the distribution (mu), the standard deviation of the distribution (sigma), and the number of samples to generate (1000 in this case).\n",
        "\n",
        "We then use the plt.hist() function from matplotlib to plot a histogram of the samples. The bins argument is used to specify the number of bins in the histogram, and the density argument is set to True to normalize the histogram so that the area under the curve is equal to 1."
      ],
      "metadata": {
        "id": "LVpbqNtOjIGZ"
      }
    },
    {
      "cell_type": "markdown",
      "source": [
        "## Bernoulli Distribution\n",
        "\n",
        "The Bernoulli distribution is a discrete probability distribution that describes the outcome of a binary experiment (success or failure) with probability of success p. The probability mass function (PMF) of a Bernoulli distribution is given by:\n",
        "\n",
        "$$ P(X = x) = p^x(1-p)^{1-x} $$\n",
        "\n",
        "Where:\n",
        "\n",
        "$X$ is the random variable\n",
        "$x$ is the outcome (0 for failure and 1 for success)\n",
        "$p$ is the probability of success"
      ],
      "metadata": {
        "id": "M5Wq-SxWkl2e"
      }
    },
    {
      "cell_type": "code",
      "source": [
        "# Now let's visualize other probability distributions\n",
        "\n",
        "# Bernoulli Distribution\n",
        "p = 0.3\n",
        "data_bern = np.random.binomial(1, p, 1000)\n",
        "ax = plt.subplot()\n",
        "sns.distplot(data_bern, kde = False, color ='skyblue', hist_kws={\"linewidth\": 15,'alpha':1})\n",
        "ax.set(title = 'Bernoulli Distribution', xlabel='Bernoulli', ylabel='Frequency')\n",
        "plt.show()"
      ],
      "metadata": {
        "colab": {
          "base_uri": "https://localhost:8080/",
          "height": 350
        },
        "id": "onFTEGpphekP",
        "outputId": "d1124317-c8af-4117-9913-ffe54122bb9f"
      },
      "execution_count": null,
      "outputs": [
        {
          "output_type": "stream",
          "name": "stderr",
          "text": [
            "/usr/local/lib/python3.8/dist-packages/seaborn/distributions.py:2619: FutureWarning: `distplot` is a deprecated function and will be removed in a future version. Please adapt your code to use either `displot` (a figure-level function with similar flexibility) or `histplot` (an axes-level function for histograms).\n",
            "  warnings.warn(msg, FutureWarning)\n"
          ]
        },
        {
          "output_type": "display_data",
          "data": {
            "text/plain": [
              "<Figure size 432x288 with 1 Axes>"
            ],
            "image/png": "[encoded data removed]"
          },
          "metadata": {
            "needs_background": "light"
          }
        }
      ]
    },
    {
      "cell_type": "markdown",
      "source": [
        "In the above block we are generating data from Bernoulli distribution using np.random.binomial() function which takes two arguments, number of trials and probability of success in each trial. We are using seaborn library to plot the histogram and set the labels,title and other properties."
      ],
      "metadata": {
        "id": "XtzKdveQjOku"
      }
    },
    {
      "cell_type": "markdown",
      "source": [
        "## Poisson Distribution\n",
        "The Poisson distribution is a discrete probability distribution that models the number of times an event happens in a fixed interval of time or space if these events happen independently of the time since the last event and have a constant average rate. The probability mass function (PMF) of a Poisson distribution is given by:\n",
        "\n",
        "$$ P(X = k) = \\frac{\\lambda^ke^{-\\lambda}}{k!} $$\n",
        "\n",
        "Where:\n",
        "\n",
        "$X$ is the random variable\n",
        "$k$ is the number of events\n",
        "$\\lambda$ is the average number of events per interval\n",
        "$e$ is the mathematical constant e (2.718...)\n",
        "$k!$ is the factorial of k"
      ],
      "metadata": {
        "id": "We6jcCczkreY"
      }
    },
    {
      "cell_type": "code",
      "source": [
        "# Poisson Distribution\n",
        "lambda_ = 0.6\n",
        "data_poisson = np.random.poisson(lambda_, 1000)\n",
        "ax = plt.subplot()\n",
        "sns.distplot(data_poisson, kde = False, color ='red', hist_kws={\"linewidth\": 15,'alpha':1})\n",
        "ax.set(title = 'Poisson Distribution', xlabel='Poisson', ylabel='Frequency')\n",
        "plt.show()"
      ],
      "metadata": {
        "colab": {
          "base_uri": "https://localhost:8080/",
          "height": 295
        },
        "id": "uyh7lqB_hhSr",
        "outputId": "8bcd14b2-60aa-4854-9730-039622d69cc4"
      },
      "execution_count": null,
      "outputs": [
        {
          "output_type": "display_data",
          "data": {
            "text/plain": [
              "<Figure size 432x288 with 1 Axes>"
            ],
            "image/png": "[encoded data removed]"
          },
          "metadata": {
            "needs_background": "light"
          }
        }
      ]
    },
    {
      "cell_type": "markdown",
      "source": [
        "## Exponential Distribution\n",
        "The exponential distribution is a continuous probability distribution that models the time between events in a Poisson point process, where the events happen independently of the time since the last event and have a constant average rate. The probability density function (PDF) of an exponential distribution is given by:\n",
        "\n",
        "$$ f(x) = \\beta e^{-\\beta x} $$\n",
        "\n",
        "Where:\n",
        "\n",
        "$x$ is the random variable\n",
        "$e$ is the mathematical constant e (2.718...)\n",
        "$\\beta$ is the inverse of the average time between events.\n",
        "Note that the parameter $\\beta$ is also the rate parameter, it is the number of events per unit of time or space."
      ],
      "metadata": {
        "id": "4rRofdxTk06w"
      }
    },
    {
      "cell_type": "code",
      "source": [
        "# Exponential Distribution\n",
        "beta = 1\n",
        "data_expon = np.random.exponential(beta, 100000)\n",
        "ax = plt.subplot()\n",
        "sns.distplot(data_expon, kde = True, color ='purple', hist_kws={\"linewidth\": 15,'alpha':1})\n",
        "ax.set(title = 'Exponential Distribution', xlabel='Exponential', ylabel='Frequency')\n",
        "plt.show()"
      ],
      "metadata": {
        "colab": {
          "base_uri": "https://localhost:8080/",
          "height": 350
        },
        "id": "1cU4XLH1hj9E",
        "outputId": "806938e7-429f-4977-e487-1137846cd912"
      },
      "execution_count": null,
      "outputs": [
        {
          "output_type": "stream",
          "name": "stderr",
          "text": [
            "/usr/local/lib/python3.8/dist-packages/seaborn/distributions.py:2619: FutureWarning: `distplot` is a deprecated function and will be removed in a future version. Please adapt your code to use either `displot` (a figure-level function with similar flexibility) or `histplot` (an axes-level function for histograms).\n",
            "  warnings.warn(msg, FutureWarning)\n"
          ]
        },
        {
          "output_type": "display_data",
          "data": {
            "text/plain": [
              "<Figure size 432x288 with 1 Axes>"
            ],
            "image/png": "[encoded data removed]"
          },
          "metadata": {
            "needs_background": "light"
          }
        }
      ]
    },
    {
      "cell_type": "markdown",
      "source": [
        "##The multivariate Gaussian distribution\n",
        "Also known as the multivariate normal distribution, is a probability distribution for random vectors in multiple dimensions. It is defined by the probability density function (PDF) given by:\n",
        "\n",
        "$$ f(x) = \\frac{1}{(2\\pi)^{\\frac{n}{2}}|\\Sigma|^{\\frac{1}{2}}} e^{-\\frac{1}{2}(x-\\mu)^T\\Sigma^{-1}(x-\\mu)} $$\n",
        "\n",
        "$x$ is the random vector of size n ( $x = [x_1, x_2, ..., x_n]$ )\n",
        "$\\mu$ is the mean vector of the distribution of size n ( $ \\mu = [\\mu_1, \\mu_2, ..., \\mu_n]$ )\n",
        "$\\Sigma$ is the covariance matrix of the distribution of size n x n\n",
        "$\\pi$ is the mathematical constant pi (3.14...)\n",
        "$e$ is the mathematical constant e (2.718...)\n",
        "|A| denotes the determinant of matrix A"
      ],
      "metadata": {
        "id": "KkxCL2QLnBom"
      }
    },
    {
      "cell_type": "code",
      "source": [
        "import numpy as np\n",
        "import matplotlib.pyplot as plt\n",
        "from mpl_toolkits.mplot3d import Axes3D\n",
        "\n",
        "# Define the mean and covariance of the distribution\n",
        "mean = [0, 0, 0]\n",
        "cov = [[1, 0, 0], [0, 1, 0], [0, 0, 1]]\n",
        "\n",
        "# Generate samples from the distribution\n",
        "samples = np.random.multivariate_normal(mean, cov, 1000)\n",
        "\n",
        "# Plot the distribution using a 3D scatter plot\n",
        "fig = plt.figure()\n",
        "ax = fig.add_subplot(111, projection='3d')\n",
        "ax.scatter(samples[:, 0], samples[:, 1], samples[:, 2])\n",
        "ax.set_xlabel('X')\n",
        "ax.set_ylabel('Y')\n",
        "ax.set_zlabel('Z')\n",
        "plt.show()"
      ],
      "metadata": {
        "colab": {
          "base_uri": "https://localhost:8080/",
          "height": 248
        },
        "id": "iW22WfKenCKm",
        "outputId": "eb36fa0e-0102-4103-9359-826c456e96fe"
      },
      "execution_count": null,
      "outputs": [
        {
          "output_type": "display_data",
          "data": {
            "text/plain": [
              "<Figure size 432x288 with 1 Axes>"
            ],
            "image/png": "[encoded data removed]"
          },
          "metadata": {
            "needs_background": "light"
          }
        }
      ]
    },
    {
      "cell_type": "markdown",
      "source": [
        "In this example, we first define the mean and covariance of the multivariate Gaussian distribution using the mean and cov variables. The mean variable is a list of three numbers representing the means of the distribution along each axis, and the cov variable is a 3x3 matrix representing the covariance of the distribution.\n",
        "\n",
        "We then use the np.random.multivariate_normal() function from the NumPy library to generate samples from the distribution. The function takes three arguments: the mean of the distribution (mean), the covariance of the distribution (cov), and the number of samples to generate (1000 in this case).\n",
        "\n",
        "Finally, we use the plt.scatter() function from matplotlib to create a 3D scatter plot of the samples. The x, y and z arguments of the function are the samples along the x,y,z axis respectively. We also used set_xlabel, set_ylabel and set_zlabel methods of the axis to set the labels.\n",
        "\n",
        "This code produce a 3D scatter plot that shows the samples generated from the multivariate Gaussian distribution. This can be a good way to visualize the distribution of the data in three dimensions and understand the correlation between different variables."
      ],
      "metadata": {
        "id": "xGOm9xRNm_Zq"
      }
    },
    {
      "cell_type": "markdown",
      "source": [
        "### Using probability to generate synthetic data"
      ],
      "metadata": {
        "id": "z2-iSF2bhNeT"
      }
    },
    {
      "cell_type": "code",
      "execution_count": null,
      "metadata": {
        "id": "2mwB1qkxgsOU"
      },
      "outputs": [],
      "source": [
        "import numpy as np"
      ]
    },
    {
      "cell_type": "code",
      "source": [
        "# Define a simple probability distribution\n",
        "p = [0.1, 0.2, 0.3, 0.4]\n",
        "\n",
        "# Sample from the distribution\n",
        "np.random.choice(4, p=p)\n",
        "\n",
        "# Output: 0, 1, 2, or 3 with probabilities 0.1, 0.2, 0.3, and 0.4 respectively\n",
        "\n",
        "# Now, let's say we want to train a simple machine learning model using this probability distribution.\n",
        "# We will use a simple logistic regression model for this example.\n",
        "\n",
        "from sklearn.linear_model import LogisticRegression\n",
        "\n",
        "# Define the training data\n",
        "X_train = np.random.randn(100, 2)\n",
        "y_train = np.random.choice(2, 100, p=[0.5, 0.5])\n",
        "\n",
        "# Initialize the model\n",
        "log_reg = LogisticRegression()\n",
        "\n",
        "# Train the model\n",
        "log_reg.fit(X_train, y_train)\n",
        "\n",
        "# Now we can use the trained model to make predictions on new data\n",
        "X_test = np.random.randn(50, 2)\n",
        "y_pred = log_reg.predict(X_test)\n",
        "\n",
        "# Output: predicted labels for the test data (0 or 1) with probability of the label"
      ],
      "metadata": {
        "id": "Yr6QTo_-gyaV"
      },
      "execution_count": null,
      "outputs": []
    },
    {
      "cell_type": "code",
      "source": [
        "print(y_pred)"
      ],
      "metadata": {
        "colab": {
          "base_uri": "https://localhost:8080/"
        },
        "id": "PIk-jA8BgzHG",
        "outputId": "852c7a02-e5dd-4a46-e640-87af1f9357ef"
      },
      "execution_count": null,
      "outputs": [
        {
          "output_type": "stream",
          "name": "stdout",
          "text": [
            "[1 1 0 1 1 0 1 1 0 1 0 1 0 1 1 1 0 0 0 1 1 1 0 0 0 1 1 1 0 0 1 0 0 1 0 1 1\n",
            " 1 0 1 0 0 1 0 1 0 1 1 0 1]\n"
          ]
        }
      ]
    },
    {
      "cell_type": "markdown",
      "source": [
        "In this example, we first defined a simple probability distribution using the list p and then we used the np.random.choice() function from the NumPy library to sample from that distribution. The np.random.choice() function takes an integer argument which represents the number of items in the distribution, and a keyword argument p, which specifies the probabilities of each item.\n",
        "\n",
        "Then, We used this probability distribution to generate some synthetic training data for a logistic regression model. The np.random.randn() function from NumPy is used to generate random numbers with a standard normal distribution, and the np.random.choice() function is used to generate labels for the training data based on the probability distribution.\n",
        "\n",
        "We then use the LogisticRegression class from the scikit-learn library to train the model on the training data. The fit() method is used to train the model on the training data. Finally, we use the trained model to make predictions on new data using the predict() method.\n",
        "\n",
        "In this example, we used probability in generating the data and used it to train the model. Probability is a fundamental concept in machine learning and is used in various ways in different models like Bayesian networks, Gaussian mixture models, etc."
      ],
      "metadata": {
        "id": "eDUvuyvFhLYV"
      }
    },
    {
      "cell_type": "markdown",
      "source": [
        "## Let's solve some questions:"
      ],
      "metadata": {
        "id": "hWOd5F6Zv_5L"
      }
    },
    {
      "cell_type": "markdown",
      "source": [
        "Q1. Generate 1000 samples from a standard normal distribution (mean=0, std=1) using the np.random.normal() function from NumPy. Then calculate the mean and standard deviation of the samples and compare them to the true values of the distribution."
      ],
      "metadata": {
        "id": "n2b2_P0h4DiT"
      }
    },
    {
      "cell_type": "markdown",
      "source": [
        "Q2. Create a mixture of two Gaussian distributions with means [0,0] and [5,5] respectively, and a standard deviation of 1 for both distributions. Set the mixing proportions as 0.3 and 0.7 for the first and second distributions respectively. Generate 1000 samples from this mixture distribution using the np.random.normal() and np.random.choice() function from NumPy. Then, estimate the parameters of the distribution using the Expectation-Maximization algorithm."
      ],
      "metadata": {
        "id": "u-bBQQ8uwDGy"
      }
    },
    {
      "cell_type": "markdown",
      "source": [
        "Q3. Consider two discrete probability distributions P and Q over a discrete sample space. The KL divergence between P and Q, also known as the information divergence or relative entropy, is defined as the expected value of the logarithm of the ratio of P to Q, with respect to P. Mathematically, it can be written as:\n",
        "\n",
        "D_KL(P||Q) = sum(p(x) * log(p(x) / q(x)) ) for all x in the sample space\n",
        "\n",
        "Given two probability distributions P and Q represented by two lists of probabilities, your task is to implement a function that calculates the KL divergence between P and Q.\n"
      ],
      "metadata": {
        "id": "mwBzHro478TK"
      }
    },
    {
      "cell_type": "code",
      "source": [
        "import numpy as np\n",
        "from sklearn.mixture import GaussianMixture\n",
        "\n",
        "# Set means and standard deviation for the two distributions\n",
        "means = [[0,0], [5,5]]\n",
        "std = 1\n",
        "\n",
        "# Set mixing proportions\n",
        "proportions = [0.3, 0.7]\n",
        "\n",
        "# Generate 1000 samples\n",
        "samples = []\n",
        "for _ in range(1000):\n",
        "    # Select a distribution to sample from\n",
        "    dist = np.random.choice([0,1], p=proportions)\n",
        "    # Sample from the selected distribution\n",
        "    samples.append(np.random.normal(loc=means[dist], scale=std))\n",
        "\n",
        "# Estimate parameters using EM algorithm\n",
        "gmm = GaussianMixture(n_components=2)\n",
        "gmm.fit(samples)\n",
        "print(\"Means:\", gmm.means_)\n",
        "print(\"Mixing proportions:\", gmm.weights_)\n"
      ],
      "metadata": {
        "colab": {
          "base_uri": "https://localhost:8080/"
        },
        "id": "t_DlzFOk32vJ",
        "outputId": "a8930dad-1747-4734-8edf-498694d377f6"
      },
      "execution_count": null,
      "outputs": [
        {
          "output_type": "stream",
          "name": "stdout",
          "text": [
            "Means: [[ 5.02454374  5.0272066 ]\n",
            " [-0.02874022  0.01615393]]\n",
            "Mixing proportions: [0.70797022 0.29202978]\n"
          ]
        }
      ]
    },
    {
      "cell_type": "code",
      "source": [
        "import numpy as np\n",
        "import matplotlib.pyplot as plt\n",
        "\n",
        "def kl_divergence(p, q):\n",
        "    \"\"\"\n",
        "    Calculates the Kullback-Leibler divergence between two discrete probability distributions P and Q\n",
        "    Args:\n",
        "        p: list of probabilities representing distribution P\n",
        "        q: list of probabilities representing distribution Q\n",
        "    Returns:\n",
        "        KL divergence between P and Q\n",
        "    \"\"\"\n",
        "    pass # Write your code here\n",
        "\n",
        "# Example usage:\n",
        "p = [0.1, 0.2, 0.3, 0.4]\n",
        "q = [0.15, 0.25, 0.35, 0.25]\n",
        "kl = kl_divergence(p, q)\n",
        "print(\"KL divergence between P and Q:\", kl)\n"
      ],
      "metadata": {
        "id": "2Bc2K9pS8a6n"
      },
      "execution_count": null,
      "outputs": []
    },
    {
      "cell_type": "code",
      "source": [
        "# import numpy as np\n",
        "\n",
        "# # Set the means and standard deviation of the distributions\n",
        "# mean1 = [0, 0]\n",
        "# mean2 = [5, 5]\n",
        "# std = 1\n",
        "\n",
        "# # Set the mixing proportions\n",
        "# prop1 = 0.3\n",
        "# prop2 = 0.7\n",
        "\n",
        "# # Generate samples from the distributions\n",
        "# samples1 = np.random.normal(mean1, std, (int(1000*prop1), 2))\n",
        "# samples2 = np.random.normal(mean2, std, (int(1000*prop2), 2))\n",
        "# samples = np.concatenate((samples1, samples2))\n",
        "# np.random.shuffle(samples)\n",
        "\n",
        "# # Perform the Expectation-Maximization algorithm to estimate the parameters of the distribution\n",
        "# def gaussian(x, mu, sigma):\n",
        "#     return (1/(2*np.pi*sigma**2)**0.5)*np.exp(-0.5*((x-mu)/sigma)**2)\n",
        "\n",
        "# def E_step(samples, mu1, mu2, std1, std2, prop1, prop2):\n",
        "#     responsibilities = np.zeros((samples.shape[0], 2))\n",
        "#     for i in range(samples.shape[0]):\n",
        "#         den = prop1*gaussian(samples[i], mu1, std1) + prop2*gaussian(samples[i], mu2, std2)\n",
        "#         responsibilities[i, 0] = prop1*gaussian(samples[i], mu1, std1)/den\n",
        "#         responsibilities[i, 1] = prop2*gaussian(samples[i], mu2, std2)/den\n",
        "#     return responsibilities\n",
        "\n",
        "# def M_step(samples, responsibilities):\n",
        "#     N1 = np.sum(responsibilities, axis=0)[0]\n",
        "#     N2 = np.sum(responsibilities, axis=0)[1]\n",
        "#     mu1 = np.sum(responsibilities[:, 0].reshape(-1, 1)*samples, axis=0)/N1\n",
        "#     mu2 = np.sum(responsibilities[:, 1].reshape(-1, 1)*samples, axis=0)/N2\n",
        "#     std1 = np.sqrt(np.sum(responsibilities[:, 0].reshape(-1, 1)*(samples - mu1)**2, axis=0)/N1)\n",
        "#     std2 = np.sqrt(np.sum(responsibilities[:, 1].reshape(-1, 1)*(samples - mu2)**2, axis=0)/N2)\n",
        "#     prop1 = N1/samples.shape[0]\n",
        "#     prop2 = N2/samples.shape[0]\n",
        "#     return mu1, mu2, std1, std2, prop1, prop2\n",
        "\n",
        "# mu1 = [0, 0]\n",
        "# mu2 = [5, 5]\n",
        "# std1 = 1\n",
        "# std2 = 1\n",
        "# prop1 = 0.3\n",
        "# prop2 = 0.7\n",
        "\n",
        "# for i in range(10):\n",
        "#     responsibilities = E_step(samples, mu1, mu2, std1, std2, prop1, prop2)\n",
        "#     mu1, mu2, std1, std2, prop1, prop2 = M_step(samples, responsibilities)\n",
        "\n",
        "# print(\"Estimated mean of first distribution:\", mu1)\n",
        "# print(\"Estimated mean of second distribution:\", mu2)\n",
        "# print(\"Estimated standard deviation of first distribution:\", std1)\n",
        "# print(\"Estimated standard deviation of second distribution:\", std2)\n",
        "# print(\"Estimated mixing proportion of first distribution:\", prop1)\n",
        "# print(\"Estimated mixing proportion of second distribution:\", prop2)"
      ],
      "metadata": {
        "id": "bDO1wu2PhBmg"
      },
      "execution_count": null,
      "outputs": []
    }
  ]
}